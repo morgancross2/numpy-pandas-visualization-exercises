{
 "cells": [
  {
   "cell_type": "markdown",
   "id": "09cd8383-6482-4449-8a04-09cc8b603d26",
   "metadata": {
    "tags": []
   },
   "source": [
    "## PART I"
   ]
  },
  {
   "cell_type": "markdown",
   "id": "95f1a18e-6426-4e3b-ad8a-3037cd2e9399",
   "metadata": {
    "tags": []
   },
   "source": [
    "##### 1. Run python -m pip install pymysql from your terminal to install the mysql client (any folder is fine)"
   ]
  },
  {
   "cell_type": "code",
   "execution_count": 11,
   "id": "089b2394-a0b8-4332-8d43-d79926a432c0",
   "metadata": {},
   "outputs": [],
   "source": [
    "#Done!\n",
    "import env\n",
    "import pandas as pd\n",
    "import numpy as np"
   ]
  },
  {
   "cell_type": "markdown",
   "id": "f10e1a42-37f8-4d43-8fdb-6c200aa9defe",
   "metadata": {},
   "source": [
    "##### 2. cd into your exercises folder for this module and run echo env.py >> .gitignore"
   ]
  },
  {
   "cell_type": "code",
   "execution_count": 5,
   "id": "8124ad58-fef1-4adf-b475-ddfe77c1d8ea",
   "metadata": {},
   "outputs": [],
   "source": [
    "#Done!"
   ]
  },
  {
   "cell_type": "markdown",
   "id": "a0352ee1-4c46-464e-a5c9-6a5ae9535de4",
   "metadata": {},
   "source": [
    "##### 3. Create a function named get_db_url. It should accept a username, hostname, password, and database name and return a url connection string formatted like in the example at the start of this lesson."
   ]
  },
  {
   "cell_type": "code",
   "execution_count": 23,
   "id": "799fc4c9-6f5c-408b-a2b2-2d5de2b7141f",
   "metadata": {},
   "outputs": [],
   "source": [
    "def get_db_url(user,host,password,schema):\n",
    "    return f'mysql+pymysql://{user}:{password}@{host}/{schema}'"
   ]
  },
  {
   "cell_type": "markdown",
   "id": "e27720c5-5411-4b98-867d-67a065f88c28",
   "metadata": {},
   "source": [
    "##### 4. Use your function to obtain a connection to the employees database."
   ]
  },
  {
   "cell_type": "code",
   "execution_count": 24,
   "id": "38098ab7-6204-47df-a795-a759ca988ee1",
   "metadata": {},
   "outputs": [],
   "source": [
    "conn = get_db_url(env.user, env.host, env.password, 'employees')"
   ]
  },
  {
   "cell_type": "markdown",
   "id": "07dd4a16-edb9-431d-842c-0b5d8a6ceafc",
   "metadata": {},
   "source": [
    "##### 5. Once you have successfully run a query:"
   ]
  },
  {
   "cell_type": "code",
   "execution_count": 27,
   "id": "e79d7a2e-17d4-4f94-b500-7bbbb0e89fb6",
   "metadata": {},
   "outputs": [],
   "source": [
    "q1 = '''\n",
    "    SELECT\n",
    "        first_name,\n",
    "        last_name,\n",
    "        emp_no\n",
    "    FROM employees\n",
    "    ORDER BY last_name\n",
    "    LIMIT 10\n",
    "'''"
   ]
  },
  {
   "cell_type": "code",
   "execution_count": 28,
   "id": "50d5ce4c-4d71-46a2-8d3f-3198ed18faed",
   "metadata": {},
   "outputs": [
    {
     "data": {
      "text/html": [
       "<div>\n",
       "<style scoped>\n",
       "    .dataframe tbody tr th:only-of-type {\n",
       "        vertical-align: middle;\n",
       "    }\n",
       "\n",
       "    .dataframe tbody tr th {\n",
       "        vertical-align: top;\n",
       "    }\n",
       "\n",
       "    .dataframe thead th {\n",
       "        text-align: right;\n",
       "    }\n",
       "</style>\n",
       "<table border=\"1\" class=\"dataframe\">\n",
       "  <thead>\n",
       "    <tr style=\"text-align: right;\">\n",
       "      <th></th>\n",
       "      <th>first_name</th>\n",
       "      <th>last_name</th>\n",
       "      <th>emp_no</th>\n",
       "    </tr>\n",
       "  </thead>\n",
       "  <tbody>\n",
       "    <tr>\n",
       "      <th>0</th>\n",
       "      <td>Bartek</td>\n",
       "      <td>Aamodt</td>\n",
       "      <td>11761</td>\n",
       "    </tr>\n",
       "    <tr>\n",
       "      <th>1</th>\n",
       "      <td>Aluzio</td>\n",
       "      <td>Aamodt</td>\n",
       "      <td>15427</td>\n",
       "    </tr>\n",
       "    <tr>\n",
       "      <th>2</th>\n",
       "      <td>Dekang</td>\n",
       "      <td>Aamodt</td>\n",
       "      <td>18182</td>\n",
       "    </tr>\n",
       "    <tr>\n",
       "      <th>3</th>\n",
       "      <td>Matt</td>\n",
       "      <td>Aamodt</td>\n",
       "      <td>16572</td>\n",
       "    </tr>\n",
       "    <tr>\n",
       "      <th>4</th>\n",
       "      <td>Mokhtar</td>\n",
       "      <td>Aamodt</td>\n",
       "      <td>12791</td>\n",
       "    </tr>\n",
       "    <tr>\n",
       "      <th>5</th>\n",
       "      <td>Sreenivas</td>\n",
       "      <td>Aamodt</td>\n",
       "      <td>12516</td>\n",
       "    </tr>\n",
       "    <tr>\n",
       "      <th>6</th>\n",
       "      <td>Sachem</td>\n",
       "      <td>Aamodt</td>\n",
       "      <td>12982</td>\n",
       "    </tr>\n",
       "    <tr>\n",
       "      <th>7</th>\n",
       "      <td>Basim</td>\n",
       "      <td>Aamodt</td>\n",
       "      <td>17400</td>\n",
       "    </tr>\n",
       "    <tr>\n",
       "      <th>8</th>\n",
       "      <td>Vidar</td>\n",
       "      <td>Aamodt</td>\n",
       "      <td>19898</td>\n",
       "    </tr>\n",
       "    <tr>\n",
       "      <th>9</th>\n",
       "      <td>Takanari</td>\n",
       "      <td>Aamodt</td>\n",
       "      <td>17885</td>\n",
       "    </tr>\n",
       "  </tbody>\n",
       "</table>\n",
       "</div>"
      ],
      "text/plain": [
       "  first_name last_name  emp_no\n",
       "0     Bartek    Aamodt   11761\n",
       "1     Aluzio    Aamodt   15427\n",
       "2     Dekang    Aamodt   18182\n",
       "3       Matt    Aamodt   16572\n",
       "4    Mokhtar    Aamodt   12791\n",
       "5  Sreenivas    Aamodt   12516\n",
       "6     Sachem    Aamodt   12982\n",
       "7      Basim    Aamodt   17400\n",
       "8      Vidar    Aamodt   19898\n",
       "9   Takanari    Aamodt   17885"
      ]
     },
     "execution_count": 28,
     "metadata": {},
     "output_type": "execute_result"
    }
   ],
   "source": [
    "df = pd.read_sql(q1, conn)\n",
    "df"
   ]
  },
  {
   "cell_type": "markdown",
   "id": "294aa46a-34a2-491d-a738-779caa0d3e06",
   "metadata": {},
   "source": [
    "##### 5.a. Intentionally make a typo in the database url. What kind of error message do you see?"
   ]
  },
  {
   "cell_type": "code",
   "execution_count": 22,
   "id": "31bc4435-1274-454a-be78-2af350150d63",
   "metadata": {},
   "outputs": [],
   "source": [
    "#used 'empoyees' instead of 'employees' \n",
    "#returns (1044, \"Access denied for user to database 'empoyees'\")"
   ]
  },
  {
   "cell_type": "markdown",
   "id": "729e19e3-b782-4a2b-8d0f-d3967bd1fa79",
   "metadata": {},
   "source": [
    "##### 5.b. Intentionally make an error in your SQL query. What does the error message look like?"
   ]
  },
  {
   "cell_type": "code",
   "execution_count": null,
   "id": "035eb592-6d75-4cfa-ba18-cd9d592241c2",
   "metadata": {},
   "outputs": [],
   "source": [
    "#used ORDERBY instead of ORDER BY\n",
    "#returns (1064, \"You have an error in your SQL syntax; check the manual that corresponds to your MySQL server version for the right syntax to use near 'last_name\\n    LIMIT 10' at line 6\")"
   ]
  },
  {
   "cell_type": "markdown",
   "id": "729e29ad-3eee-4d20-83e1-0a370d3f0b02",
   "metadata": {},
   "source": [
    "##### 6. Read the employees and titles tables into two separate DataFrames."
   ]
  },
  {
   "cell_type": "code",
   "execution_count": 29,
   "id": "c1976e90-76a1-4250-8c78-03811e580eb9",
   "metadata": {},
   "outputs": [],
   "source": [
    "emps = '''\n",
    "    SELECT *\n",
    "    FROM employees\n",
    "'''\n",
    "\n",
    "titles = '''\n",
    "    SELECT *\n",
    "    FROM titles\n",
    "'''"
   ]
  },
  {
   "cell_type": "code",
   "execution_count": 30,
   "id": "9f12691a-9c8d-4cd1-aa9b-2faaf5ada0f7",
   "metadata": {},
   "outputs": [],
   "source": [
    "emps_df = pd.read_sql(emps, conn)\n",
    "titles_df = pd.read_sql(titles, conn)"
   ]
  },
  {
   "cell_type": "markdown",
   "id": "9cb65b7f-5a4b-4a43-973e-2d70335582f3",
   "metadata": {},
   "source": [
    "##### 7. How many rows and columns do you have in each DataFrame? Is that what you expected?"
   ]
  },
  {
   "cell_type": "code",
   "execution_count": 31,
   "id": "f19cb29b-2913-440b-9d54-c569f6569635",
   "metadata": {},
   "outputs": [
    {
     "data": {
      "text/plain": [
       "(300024, 6)"
      ]
     },
     "execution_count": 31,
     "metadata": {},
     "output_type": "execute_result"
    }
   ],
   "source": [
    "emps_df.shape"
   ]
  },
  {
   "cell_type": "code",
   "execution_count": 32,
   "id": "2cd1336e-1b92-4566-afeb-2d5f7f354470",
   "metadata": {},
   "outputs": [
    {
     "data": {
      "text/plain": [
       "(443308, 4)"
      ]
     },
     "execution_count": 32,
     "metadata": {},
     "output_type": "execute_result"
    }
   ],
   "source": [
    "titles_df.shape"
   ]
  },
  {
   "cell_type": "markdown",
   "id": "ad28ffb6-99b6-4ab0-91bc-808457c6f022",
   "metadata": {},
   "source": [
    "##### 8. Display the summary statistics for each DataFrame."
   ]
  },
  {
   "cell_type": "code",
   "execution_count": 33,
   "id": "04e6d16e-87d0-44ac-9991-42825032f19c",
   "metadata": {},
   "outputs": [
    {
     "data": {
      "text/html": [
       "<div>\n",
       "<style scoped>\n",
       "    .dataframe tbody tr th:only-of-type {\n",
       "        vertical-align: middle;\n",
       "    }\n",
       "\n",
       "    .dataframe tbody tr th {\n",
       "        vertical-align: top;\n",
       "    }\n",
       "\n",
       "    .dataframe thead th {\n",
       "        text-align: right;\n",
       "    }\n",
       "</style>\n",
       "<table border=\"1\" class=\"dataframe\">\n",
       "  <thead>\n",
       "    <tr style=\"text-align: right;\">\n",
       "      <th></th>\n",
       "      <th>emp_no</th>\n",
       "    </tr>\n",
       "  </thead>\n",
       "  <tbody>\n",
       "    <tr>\n",
       "      <th>count</th>\n",
       "      <td>300024.000000</td>\n",
       "    </tr>\n",
       "    <tr>\n",
       "      <th>mean</th>\n",
       "      <td>253321.763392</td>\n",
       "    </tr>\n",
       "    <tr>\n",
       "      <th>std</th>\n",
       "      <td>161828.235540</td>\n",
       "    </tr>\n",
       "    <tr>\n",
       "      <th>min</th>\n",
       "      <td>10001.000000</td>\n",
       "    </tr>\n",
       "    <tr>\n",
       "      <th>25%</th>\n",
       "      <td>85006.750000</td>\n",
       "    </tr>\n",
       "    <tr>\n",
       "      <th>50%</th>\n",
       "      <td>249987.500000</td>\n",
       "    </tr>\n",
       "    <tr>\n",
       "      <th>75%</th>\n",
       "      <td>424993.250000</td>\n",
       "    </tr>\n",
       "    <tr>\n",
       "      <th>max</th>\n",
       "      <td>499999.000000</td>\n",
       "    </tr>\n",
       "  </tbody>\n",
       "</table>\n",
       "</div>"
      ],
      "text/plain": [
       "              emp_no\n",
       "count  300024.000000\n",
       "mean   253321.763392\n",
       "std    161828.235540\n",
       "min     10001.000000\n",
       "25%     85006.750000\n",
       "50%    249987.500000\n",
       "75%    424993.250000\n",
       "max    499999.000000"
      ]
     },
     "execution_count": 33,
     "metadata": {},
     "output_type": "execute_result"
    }
   ],
   "source": [
    "emps_df.describe()"
   ]
  },
  {
   "cell_type": "code",
   "execution_count": 34,
   "id": "304deb2f-8ab3-4823-9971-70a8487df094",
   "metadata": {},
   "outputs": [
    {
     "data": {
      "text/html": [
       "<div>\n",
       "<style scoped>\n",
       "    .dataframe tbody tr th:only-of-type {\n",
       "        vertical-align: middle;\n",
       "    }\n",
       "\n",
       "    .dataframe tbody tr th {\n",
       "        vertical-align: top;\n",
       "    }\n",
       "\n",
       "    .dataframe thead th {\n",
       "        text-align: right;\n",
       "    }\n",
       "</style>\n",
       "<table border=\"1\" class=\"dataframe\">\n",
       "  <thead>\n",
       "    <tr style=\"text-align: right;\">\n",
       "      <th></th>\n",
       "      <th>emp_no</th>\n",
       "    </tr>\n",
       "  </thead>\n",
       "  <tbody>\n",
       "    <tr>\n",
       "      <th>count</th>\n",
       "      <td>443308.000000</td>\n",
       "    </tr>\n",
       "    <tr>\n",
       "      <th>mean</th>\n",
       "      <td>253075.034430</td>\n",
       "    </tr>\n",
       "    <tr>\n",
       "      <th>std</th>\n",
       "      <td>161853.292613</td>\n",
       "    </tr>\n",
       "    <tr>\n",
       "      <th>min</th>\n",
       "      <td>10001.000000</td>\n",
       "    </tr>\n",
       "    <tr>\n",
       "      <th>25%</th>\n",
       "      <td>84855.750000</td>\n",
       "    </tr>\n",
       "    <tr>\n",
       "      <th>50%</th>\n",
       "      <td>249847.500000</td>\n",
       "    </tr>\n",
       "    <tr>\n",
       "      <th>75%</th>\n",
       "      <td>424891.250000</td>\n",
       "    </tr>\n",
       "    <tr>\n",
       "      <th>max</th>\n",
       "      <td>499999.000000</td>\n",
       "    </tr>\n",
       "  </tbody>\n",
       "</table>\n",
       "</div>"
      ],
      "text/plain": [
       "              emp_no\n",
       "count  443308.000000\n",
       "mean   253075.034430\n",
       "std    161853.292613\n",
       "min     10001.000000\n",
       "25%     84855.750000\n",
       "50%    249847.500000\n",
       "75%    424891.250000\n",
       "max    499999.000000"
      ]
     },
     "execution_count": 34,
     "metadata": {},
     "output_type": "execute_result"
    }
   ],
   "source": [
    "titles_df.describe()"
   ]
  },
  {
   "cell_type": "markdown",
   "id": "60ef13b0-6ce0-45ee-83ef-16cd59b60eea",
   "metadata": {},
   "source": [
    "##### 9. How many unique titles are in the titles DataFrame?"
   ]
  },
  {
   "cell_type": "code",
   "execution_count": 36,
   "id": "524bf59e-854f-4c31-9fe5-05c63c0a5dbf",
   "metadata": {},
   "outputs": [
    {
     "data": {
      "text/plain": [
       "7"
      ]
     },
     "execution_count": 36,
     "metadata": {},
     "output_type": "execute_result"
    }
   ],
   "source": [
    "len(titles_df.title.unique())"
   ]
  },
  {
   "cell_type": "markdown",
   "id": "f13a5c04-98fe-428a-a1c2-58f0d0edf638",
   "metadata": {},
   "source": [
    "##### 10. What is the oldest date in the to_date column?"
   ]
  },
  {
   "cell_type": "code",
   "execution_count": 40,
   "id": "b188bbeb-dc34-4c62-8913-5277b10b3bb0",
   "metadata": {},
   "outputs": [
    {
     "data": {
      "text/plain": [
       "datetime.date(1985, 3, 1)"
      ]
     },
     "execution_count": 40,
     "metadata": {},
     "output_type": "execute_result"
    }
   ],
   "source": [
    "titles_df['to_date'].min()"
   ]
  },
  {
   "cell_type": "markdown",
   "id": "87d21923-e281-4a7a-9841-dd14e5231a52",
   "metadata": {},
   "source": [
    "##### 11. What is the most recent date in the to_date column?"
   ]
  },
  {
   "cell_type": "code",
   "execution_count": 43,
   "id": "dca6ed84-f500-47c3-8d41-b5cdfe1f1654",
   "metadata": {},
   "outputs": [
    {
     "data": {
      "text/plain": [
       "datetime.date(9999, 1, 1)"
      ]
     },
     "execution_count": 43,
     "metadata": {},
     "output_type": "execute_result"
    }
   ],
   "source": [
    "titles_df['to_date'].max()"
   ]
  },
  {
   "cell_type": "markdown",
   "id": "71055904-0074-4f6b-83c5-801dfd3644e8",
   "metadata": {},
   "source": [
    "## PART II"
   ]
  },
  {
   "cell_type": "code",
   "execution_count": null,
   "id": "d984a677-b3f3-4245-acdb-1e7a37064165",
   "metadata": {},
   "outputs": [],
   "source": []
  }
 ],
 "metadata": {
  "kernelspec": {
   "display_name": "Python 3 (ipykernel)",
   "language": "python",
   "name": "python3"
  },
  "language_info": {
   "codemirror_mode": {
    "name": "ipython",
    "version": 3
   },
   "file_extension": ".py",
   "mimetype": "text/x-python",
   "name": "python",
   "nbconvert_exporter": "python",
   "pygments_lexer": "ipython3",
   "version": "3.9.12"
  }
 },
 "nbformat": 4,
 "nbformat_minor": 5
}
