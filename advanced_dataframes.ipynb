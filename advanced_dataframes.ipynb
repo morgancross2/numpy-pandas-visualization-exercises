{
 "cells": [
  {
   "cell_type": "markdown",
   "id": "09cd8383-6482-4449-8a04-09cc8b603d26",
   "metadata": {
    "tags": []
   },
   "source": [
    "## PART I"
   ]
  },
  {
   "cell_type": "markdown",
   "id": "95f1a18e-6426-4e3b-ad8a-3037cd2e9399",
   "metadata": {
    "tags": []
   },
   "source": [
    "##### 1. Run python -m pip install pymysql from your terminal to install the mysql client (any folder is fine)"
   ]
  },
  {
   "cell_type": "code",
   "execution_count": 34,
   "id": "089b2394-a0b8-4332-8d43-d79926a432c0",
   "metadata": {},
   "outputs": [],
   "source": [
    "#Done!\n",
    "import env\n",
    "import pandas as pd\n",
    "import numpy as np"
   ]
  },
  {
   "cell_type": "markdown",
   "id": "f10e1a42-37f8-4d43-8fdb-6c200aa9defe",
   "metadata": {},
   "source": [
    "##### 2. cd into your exercises folder for this module and run echo env.py >> .gitignore"
   ]
  },
  {
   "cell_type": "code",
   "execution_count": 35,
   "id": "8124ad58-fef1-4adf-b475-ddfe77c1d8ea",
   "metadata": {},
   "outputs": [],
   "source": [
    "#Done!"
   ]
  },
  {
   "cell_type": "markdown",
   "id": "a0352ee1-4c46-464e-a5c9-6a5ae9535de4",
   "metadata": {},
   "source": [
    "##### 3. Create a function named get_db_url. It should accept a username, hostname, password, and database name and return a url connection string formatted like in the example at the start of this lesson."
   ]
  },
  {
   "cell_type": "code",
   "execution_count": 36,
   "id": "799fc4c9-6f5c-408b-a2b2-2d5de2b7141f",
   "metadata": {},
   "outputs": [],
   "source": [
    "def get_db_url(user,host,password,schema):\n",
    "    return f'mysql+pymysql://{user}:{password}@{host}/{schema}'"
   ]
  },
  {
   "cell_type": "markdown",
   "id": "e27720c5-5411-4b98-867d-67a065f88c28",
   "metadata": {},
   "source": [
    "##### 4. Use your function to obtain a connection to the employees database."
   ]
  },
  {
   "cell_type": "code",
   "execution_count": 85,
   "id": "38098ab7-6204-47df-a795-a759ca988ee1",
   "metadata": {},
   "outputs": [],
   "source": [
    "conn = get_db_url(env.user, env.host, env.password, 'employees')"
   ]
  },
  {
   "cell_type": "markdown",
   "id": "07dd4a16-edb9-431d-842c-0b5d8a6ceafc",
   "metadata": {},
   "source": [
    "##### 5. Once you have successfully run a query:"
   ]
  },
  {
   "cell_type": "code",
   "execution_count": 38,
   "id": "e79d7a2e-17d4-4f94-b500-7bbbb0e89fb6",
   "metadata": {},
   "outputs": [],
   "source": [
    "q1 = '''\n",
    "    SELECT\n",
    "        first_name,\n",
    "        last_name,\n",
    "        emp_no\n",
    "    FROM employees\n",
    "    ORDER BY last_name\n",
    "    LIMIT 10\n",
    "'''"
   ]
  },
  {
   "cell_type": "code",
   "execution_count": 39,
   "id": "50d5ce4c-4d71-46a2-8d3f-3198ed18faed",
   "metadata": {},
   "outputs": [
    {
     "data": {
      "text/html": [
       "<div>\n",
       "<style scoped>\n",
       "    .dataframe tbody tr th:only-of-type {\n",
       "        vertical-align: middle;\n",
       "    }\n",
       "\n",
       "    .dataframe tbody tr th {\n",
       "        vertical-align: top;\n",
       "    }\n",
       "\n",
       "    .dataframe thead th {\n",
       "        text-align: right;\n",
       "    }\n",
       "</style>\n",
       "<table border=\"1\" class=\"dataframe\">\n",
       "  <thead>\n",
       "    <tr style=\"text-align: right;\">\n",
       "      <th></th>\n",
       "      <th>first_name</th>\n",
       "      <th>last_name</th>\n",
       "      <th>emp_no</th>\n",
       "    </tr>\n",
       "  </thead>\n",
       "  <tbody>\n",
       "    <tr>\n",
       "      <th>0</th>\n",
       "      <td>Bartek</td>\n",
       "      <td>Aamodt</td>\n",
       "      <td>11761</td>\n",
       "    </tr>\n",
       "    <tr>\n",
       "      <th>1</th>\n",
       "      <td>Aluzio</td>\n",
       "      <td>Aamodt</td>\n",
       "      <td>15427</td>\n",
       "    </tr>\n",
       "    <tr>\n",
       "      <th>2</th>\n",
       "      <td>Dekang</td>\n",
       "      <td>Aamodt</td>\n",
       "      <td>18182</td>\n",
       "    </tr>\n",
       "    <tr>\n",
       "      <th>3</th>\n",
       "      <td>Matt</td>\n",
       "      <td>Aamodt</td>\n",
       "      <td>16572</td>\n",
       "    </tr>\n",
       "    <tr>\n",
       "      <th>4</th>\n",
       "      <td>Mokhtar</td>\n",
       "      <td>Aamodt</td>\n",
       "      <td>12791</td>\n",
       "    </tr>\n",
       "    <tr>\n",
       "      <th>5</th>\n",
       "      <td>Sreenivas</td>\n",
       "      <td>Aamodt</td>\n",
       "      <td>12516</td>\n",
       "    </tr>\n",
       "    <tr>\n",
       "      <th>6</th>\n",
       "      <td>Sachem</td>\n",
       "      <td>Aamodt</td>\n",
       "      <td>12982</td>\n",
       "    </tr>\n",
       "    <tr>\n",
       "      <th>7</th>\n",
       "      <td>Basim</td>\n",
       "      <td>Aamodt</td>\n",
       "      <td>17400</td>\n",
       "    </tr>\n",
       "    <tr>\n",
       "      <th>8</th>\n",
       "      <td>Vidar</td>\n",
       "      <td>Aamodt</td>\n",
       "      <td>19898</td>\n",
       "    </tr>\n",
       "    <tr>\n",
       "      <th>9</th>\n",
       "      <td>Takanari</td>\n",
       "      <td>Aamodt</td>\n",
       "      <td>17885</td>\n",
       "    </tr>\n",
       "  </tbody>\n",
       "</table>\n",
       "</div>"
      ],
      "text/plain": [
       "  first_name last_name  emp_no\n",
       "0     Bartek    Aamodt   11761\n",
       "1     Aluzio    Aamodt   15427\n",
       "2     Dekang    Aamodt   18182\n",
       "3       Matt    Aamodt   16572\n",
       "4    Mokhtar    Aamodt   12791\n",
       "5  Sreenivas    Aamodt   12516\n",
       "6     Sachem    Aamodt   12982\n",
       "7      Basim    Aamodt   17400\n",
       "8      Vidar    Aamodt   19898\n",
       "9   Takanari    Aamodt   17885"
      ]
     },
     "execution_count": 39,
     "metadata": {},
     "output_type": "execute_result"
    }
   ],
   "source": [
    "df = pd.read_sql(q1, conn)\n",
    "df"
   ]
  },
  {
   "cell_type": "markdown",
   "id": "294aa46a-34a2-491d-a738-779caa0d3e06",
   "metadata": {},
   "source": [
    "##### 5.a. Intentionally make a typo in the database url. What kind of error message do you see?"
   ]
  },
  {
   "cell_type": "code",
   "execution_count": 40,
   "id": "31bc4435-1274-454a-be78-2af350150d63",
   "metadata": {},
   "outputs": [],
   "source": [
    "#used 'empoyees' instead of 'employees' \n",
    "#returns (1044, \"Access denied for user to database 'empoyees'\")"
   ]
  },
  {
   "cell_type": "markdown",
   "id": "729e19e3-b782-4a2b-8d0f-d3967bd1fa79",
   "metadata": {},
   "source": [
    "##### 5.b. Intentionally make an error in your SQL query. What does the error message look like?"
   ]
  },
  {
   "cell_type": "code",
   "execution_count": 41,
   "id": "035eb592-6d75-4cfa-ba18-cd9d592241c2",
   "metadata": {},
   "outputs": [],
   "source": [
    "#used ORDERBY instead of ORDER BY\n",
    "#returns (1064, \"You have an error in your SQL syntax; check the manual that corresponds to your MySQL server version for the right syntax to use near 'last_name\\n    LIMIT 10' at line 6\")"
   ]
  },
  {
   "cell_type": "markdown",
   "id": "729e29ad-3eee-4d20-83e1-0a370d3f0b02",
   "metadata": {},
   "source": [
    "##### 6. Read the employees and titles tables into two separate DataFrames."
   ]
  },
  {
   "cell_type": "code",
   "execution_count": 42,
   "id": "c1976e90-76a1-4250-8c78-03811e580eb9",
   "metadata": {},
   "outputs": [],
   "source": [
    "emps = '''\n",
    "    SELECT *\n",
    "    FROM employees\n",
    "'''\n",
    "\n",
    "titles = '''\n",
    "    SELECT *\n",
    "    FROM titles\n",
    "'''"
   ]
  },
  {
   "cell_type": "code",
   "execution_count": 43,
   "id": "9f12691a-9c8d-4cd1-aa9b-2faaf5ada0f7",
   "metadata": {},
   "outputs": [],
   "source": [
    "emps_df = pd.read_sql(emps, conn)\n",
    "titles_df = pd.read_sql(titles, conn)"
   ]
  },
  {
   "cell_type": "markdown",
   "id": "9cb65b7f-5a4b-4a43-973e-2d70335582f3",
   "metadata": {},
   "source": [
    "##### 7. How many rows and columns do you have in each DataFrame? Is that what you expected?"
   ]
  },
  {
   "cell_type": "code",
   "execution_count": 44,
   "id": "f19cb29b-2913-440b-9d54-c569f6569635",
   "metadata": {},
   "outputs": [
    {
     "data": {
      "text/plain": [
       "(300024, 6)"
      ]
     },
     "execution_count": 44,
     "metadata": {},
     "output_type": "execute_result"
    }
   ],
   "source": [
    "emps_df.shape"
   ]
  },
  {
   "cell_type": "code",
   "execution_count": 45,
   "id": "2cd1336e-1b92-4566-afeb-2d5f7f354470",
   "metadata": {},
   "outputs": [
    {
     "data": {
      "text/plain": [
       "(443308, 4)"
      ]
     },
     "execution_count": 45,
     "metadata": {},
     "output_type": "execute_result"
    }
   ],
   "source": [
    "titles_df.shape"
   ]
  },
  {
   "cell_type": "markdown",
   "id": "ad28ffb6-99b6-4ab0-91bc-808457c6f022",
   "metadata": {},
   "source": [
    "##### 8. Display the summary statistics for each DataFrame."
   ]
  },
  {
   "cell_type": "code",
   "execution_count": 46,
   "id": "04e6d16e-87d0-44ac-9991-42825032f19c",
   "metadata": {},
   "outputs": [
    {
     "data": {
      "text/html": [
       "<div>\n",
       "<style scoped>\n",
       "    .dataframe tbody tr th:only-of-type {\n",
       "        vertical-align: middle;\n",
       "    }\n",
       "\n",
       "    .dataframe tbody tr th {\n",
       "        vertical-align: top;\n",
       "    }\n",
       "\n",
       "    .dataframe thead th {\n",
       "        text-align: right;\n",
       "    }\n",
       "</style>\n",
       "<table border=\"1\" class=\"dataframe\">\n",
       "  <thead>\n",
       "    <tr style=\"text-align: right;\">\n",
       "      <th></th>\n",
       "      <th>emp_no</th>\n",
       "    </tr>\n",
       "  </thead>\n",
       "  <tbody>\n",
       "    <tr>\n",
       "      <th>count</th>\n",
       "      <td>300024.000000</td>\n",
       "    </tr>\n",
       "    <tr>\n",
       "      <th>mean</th>\n",
       "      <td>253321.763392</td>\n",
       "    </tr>\n",
       "    <tr>\n",
       "      <th>std</th>\n",
       "      <td>161828.235540</td>\n",
       "    </tr>\n",
       "    <tr>\n",
       "      <th>min</th>\n",
       "      <td>10001.000000</td>\n",
       "    </tr>\n",
       "    <tr>\n",
       "      <th>25%</th>\n",
       "      <td>85006.750000</td>\n",
       "    </tr>\n",
       "    <tr>\n",
       "      <th>50%</th>\n",
       "      <td>249987.500000</td>\n",
       "    </tr>\n",
       "    <tr>\n",
       "      <th>75%</th>\n",
       "      <td>424993.250000</td>\n",
       "    </tr>\n",
       "    <tr>\n",
       "      <th>max</th>\n",
       "      <td>499999.000000</td>\n",
       "    </tr>\n",
       "  </tbody>\n",
       "</table>\n",
       "</div>"
      ],
      "text/plain": [
       "              emp_no\n",
       "count  300024.000000\n",
       "mean   253321.763392\n",
       "std    161828.235540\n",
       "min     10001.000000\n",
       "25%     85006.750000\n",
       "50%    249987.500000\n",
       "75%    424993.250000\n",
       "max    499999.000000"
      ]
     },
     "execution_count": 46,
     "metadata": {},
     "output_type": "execute_result"
    }
   ],
   "source": [
    "emps_df.describe()"
   ]
  },
  {
   "cell_type": "code",
   "execution_count": 47,
   "id": "304deb2f-8ab3-4823-9971-70a8487df094",
   "metadata": {},
   "outputs": [
    {
     "data": {
      "text/html": [
       "<div>\n",
       "<style scoped>\n",
       "    .dataframe tbody tr th:only-of-type {\n",
       "        vertical-align: middle;\n",
       "    }\n",
       "\n",
       "    .dataframe tbody tr th {\n",
       "        vertical-align: top;\n",
       "    }\n",
       "\n",
       "    .dataframe thead th {\n",
       "        text-align: right;\n",
       "    }\n",
       "</style>\n",
       "<table border=\"1\" class=\"dataframe\">\n",
       "  <thead>\n",
       "    <tr style=\"text-align: right;\">\n",
       "      <th></th>\n",
       "      <th>emp_no</th>\n",
       "    </tr>\n",
       "  </thead>\n",
       "  <tbody>\n",
       "    <tr>\n",
       "      <th>count</th>\n",
       "      <td>443308.000000</td>\n",
       "    </tr>\n",
       "    <tr>\n",
       "      <th>mean</th>\n",
       "      <td>253075.034430</td>\n",
       "    </tr>\n",
       "    <tr>\n",
       "      <th>std</th>\n",
       "      <td>161853.292613</td>\n",
       "    </tr>\n",
       "    <tr>\n",
       "      <th>min</th>\n",
       "      <td>10001.000000</td>\n",
       "    </tr>\n",
       "    <tr>\n",
       "      <th>25%</th>\n",
       "      <td>84855.750000</td>\n",
       "    </tr>\n",
       "    <tr>\n",
       "      <th>50%</th>\n",
       "      <td>249847.500000</td>\n",
       "    </tr>\n",
       "    <tr>\n",
       "      <th>75%</th>\n",
       "      <td>424891.250000</td>\n",
       "    </tr>\n",
       "    <tr>\n",
       "      <th>max</th>\n",
       "      <td>499999.000000</td>\n",
       "    </tr>\n",
       "  </tbody>\n",
       "</table>\n",
       "</div>"
      ],
      "text/plain": [
       "              emp_no\n",
       "count  443308.000000\n",
       "mean   253075.034430\n",
       "std    161853.292613\n",
       "min     10001.000000\n",
       "25%     84855.750000\n",
       "50%    249847.500000\n",
       "75%    424891.250000\n",
       "max    499999.000000"
      ]
     },
     "execution_count": 47,
     "metadata": {},
     "output_type": "execute_result"
    }
   ],
   "source": [
    "titles_df.describe()"
   ]
  },
  {
   "cell_type": "markdown",
   "id": "60ef13b0-6ce0-45ee-83ef-16cd59b60eea",
   "metadata": {},
   "source": [
    "##### 9. How many unique titles are in the titles DataFrame?"
   ]
  },
  {
   "cell_type": "code",
   "execution_count": 48,
   "id": "524bf59e-854f-4c31-9fe5-05c63c0a5dbf",
   "metadata": {},
   "outputs": [
    {
     "data": {
      "text/plain": [
       "7"
      ]
     },
     "execution_count": 48,
     "metadata": {},
     "output_type": "execute_result"
    }
   ],
   "source": [
    "len(titles_df.title.unique())"
   ]
  },
  {
   "cell_type": "markdown",
   "id": "f13a5c04-98fe-428a-a1c2-58f0d0edf638",
   "metadata": {},
   "source": [
    "##### 10. What is the oldest date in the to_date column?"
   ]
  },
  {
   "cell_type": "code",
   "execution_count": 49,
   "id": "b188bbeb-dc34-4c62-8913-5277b10b3bb0",
   "metadata": {},
   "outputs": [
    {
     "data": {
      "text/plain": [
       "datetime.date(1985, 3, 1)"
      ]
     },
     "execution_count": 49,
     "metadata": {},
     "output_type": "execute_result"
    }
   ],
   "source": [
    "titles_df['to_date'].min()"
   ]
  },
  {
   "cell_type": "markdown",
   "id": "87d21923-e281-4a7a-9841-dd14e5231a52",
   "metadata": {},
   "source": [
    "##### 11. What is the most recent date in the to_date column?"
   ]
  },
  {
   "cell_type": "code",
   "execution_count": 50,
   "id": "dca6ed84-f500-47c3-8d41-b5cdfe1f1654",
   "metadata": {},
   "outputs": [
    {
     "data": {
      "text/plain": [
       "datetime.date(9999, 1, 1)"
      ]
     },
     "execution_count": 50,
     "metadata": {},
     "output_type": "execute_result"
    }
   ],
   "source": [
    "titles_df['to_date'].max()"
   ]
  },
  {
   "cell_type": "markdown",
   "id": "71055904-0074-4f6b-83c5-801dfd3644e8",
   "metadata": {
    "tags": []
   },
   "source": [
    "## PART II"
   ]
  },
  {
   "cell_type": "markdown",
   "id": "40832816-1ca5-439b-b012-864153f839c2",
   "metadata": {
    "tags": []
   },
   "source": [
    "##### 1. Copy the users and roles DataFrames from the examples above."
   ]
  },
  {
   "cell_type": "code",
   "execution_count": 51,
   "id": "1fd04674-3338-403d-9830-bd83f736dcd2",
   "metadata": {},
   "outputs": [
    {
     "data": {
      "text/html": [
       "<div>\n",
       "<style scoped>\n",
       "    .dataframe tbody tr th:only-of-type {\n",
       "        vertical-align: middle;\n",
       "    }\n",
       "\n",
       "    .dataframe tbody tr th {\n",
       "        vertical-align: top;\n",
       "    }\n",
       "\n",
       "    .dataframe thead th {\n",
       "        text-align: right;\n",
       "    }\n",
       "</style>\n",
       "<table border=\"1\" class=\"dataframe\">\n",
       "  <thead>\n",
       "    <tr style=\"text-align: right;\">\n",
       "      <th></th>\n",
       "      <th>id</th>\n",
       "      <th>name</th>\n",
       "      <th>role_id</th>\n",
       "    </tr>\n",
       "  </thead>\n",
       "  <tbody>\n",
       "    <tr>\n",
       "      <th>0</th>\n",
       "      <td>1</td>\n",
       "      <td>bob</td>\n",
       "      <td>1.0</td>\n",
       "    </tr>\n",
       "    <tr>\n",
       "      <th>1</th>\n",
       "      <td>2</td>\n",
       "      <td>joe</td>\n",
       "      <td>2.0</td>\n",
       "    </tr>\n",
       "    <tr>\n",
       "      <th>2</th>\n",
       "      <td>3</td>\n",
       "      <td>sally</td>\n",
       "      <td>3.0</td>\n",
       "    </tr>\n",
       "    <tr>\n",
       "      <th>3</th>\n",
       "      <td>4</td>\n",
       "      <td>adam</td>\n",
       "      <td>3.0</td>\n",
       "    </tr>\n",
       "    <tr>\n",
       "      <th>4</th>\n",
       "      <td>5</td>\n",
       "      <td>jane</td>\n",
       "      <td>NaN</td>\n",
       "    </tr>\n",
       "    <tr>\n",
       "      <th>5</th>\n",
       "      <td>6</td>\n",
       "      <td>mike</td>\n",
       "      <td>NaN</td>\n",
       "    </tr>\n",
       "  </tbody>\n",
       "</table>\n",
       "</div>"
      ],
      "text/plain": [
       "   id   name  role_id\n",
       "0   1    bob      1.0\n",
       "1   2    joe      2.0\n",
       "2   3  sally      3.0\n",
       "3   4   adam      3.0\n",
       "4   5   jane      NaN\n",
       "5   6   mike      NaN"
      ]
     },
     "execution_count": 51,
     "metadata": {},
     "output_type": "execute_result"
    }
   ],
   "source": [
    "users = pd.DataFrame({\n",
    "    'id': [1, 2, 3, 4, 5, 6],\n",
    "    'name': ['bob', 'joe', 'sally', 'adam', 'jane', 'mike'],\n",
    "    'role_id': [1, 2, 3, 3, np.nan, np.nan]\n",
    "})\n",
    "users"
   ]
  },
  {
   "cell_type": "code",
   "execution_count": 52,
   "id": "e5293eab-3e3e-4428-930c-21fdda5c36f6",
   "metadata": {},
   "outputs": [
    {
     "data": {
      "text/html": [
       "<div>\n",
       "<style scoped>\n",
       "    .dataframe tbody tr th:only-of-type {\n",
       "        vertical-align: middle;\n",
       "    }\n",
       "\n",
       "    .dataframe tbody tr th {\n",
       "        vertical-align: top;\n",
       "    }\n",
       "\n",
       "    .dataframe thead th {\n",
       "        text-align: right;\n",
       "    }\n",
       "</style>\n",
       "<table border=\"1\" class=\"dataframe\">\n",
       "  <thead>\n",
       "    <tr style=\"text-align: right;\">\n",
       "      <th></th>\n",
       "      <th>id</th>\n",
       "      <th>name</th>\n",
       "    </tr>\n",
       "  </thead>\n",
       "  <tbody>\n",
       "    <tr>\n",
       "      <th>0</th>\n",
       "      <td>1</td>\n",
       "      <td>admin</td>\n",
       "    </tr>\n",
       "    <tr>\n",
       "      <th>1</th>\n",
       "      <td>2</td>\n",
       "      <td>author</td>\n",
       "    </tr>\n",
       "    <tr>\n",
       "      <th>2</th>\n",
       "      <td>3</td>\n",
       "      <td>reviewer</td>\n",
       "    </tr>\n",
       "    <tr>\n",
       "      <th>3</th>\n",
       "      <td>4</td>\n",
       "      <td>commenter</td>\n",
       "    </tr>\n",
       "  </tbody>\n",
       "</table>\n",
       "</div>"
      ],
      "text/plain": [
       "   id       name\n",
       "0   1      admin\n",
       "1   2     author\n",
       "2   3   reviewer\n",
       "3   4  commenter"
      ]
     },
     "execution_count": 52,
     "metadata": {},
     "output_type": "execute_result"
    }
   ],
   "source": [
    "roles = pd.DataFrame({\n",
    "    'id': [1, 2, 3, 4],\n",
    "    'name': ['admin', 'author', 'reviewer', 'commenter']\n",
    "})\n",
    "roles"
   ]
  },
  {
   "cell_type": "markdown",
   "id": "a4c0a965-02bf-4e46-b86a-d3e66b33d6e0",
   "metadata": {},
   "source": [
    "##### 2. What is the result of using a right join on the DataFrames?"
   ]
  },
  {
   "cell_type": "code",
   "execution_count": 53,
   "id": "603e847f-5e0a-4099-a997-924c7d6e0944",
   "metadata": {},
   "outputs": [
    {
     "data": {
      "text/html": [
       "<div>\n",
       "<style scoped>\n",
       "    .dataframe tbody tr th:only-of-type {\n",
       "        vertical-align: middle;\n",
       "    }\n",
       "\n",
       "    .dataframe tbody tr th {\n",
       "        vertical-align: top;\n",
       "    }\n",
       "\n",
       "    .dataframe thead th {\n",
       "        text-align: right;\n",
       "    }\n",
       "</style>\n",
       "<table border=\"1\" class=\"dataframe\">\n",
       "  <thead>\n",
       "    <tr style=\"text-align: right;\">\n",
       "      <th></th>\n",
       "      <th>id_x</th>\n",
       "      <th>name_x</th>\n",
       "      <th>role_id</th>\n",
       "      <th>id_y</th>\n",
       "      <th>name_y</th>\n",
       "    </tr>\n",
       "  </thead>\n",
       "  <tbody>\n",
       "    <tr>\n",
       "      <th>0</th>\n",
       "      <td>1.0</td>\n",
       "      <td>bob</td>\n",
       "      <td>1.0</td>\n",
       "      <td>1</td>\n",
       "      <td>admin</td>\n",
       "    </tr>\n",
       "    <tr>\n",
       "      <th>1</th>\n",
       "      <td>2.0</td>\n",
       "      <td>joe</td>\n",
       "      <td>2.0</td>\n",
       "      <td>2</td>\n",
       "      <td>author</td>\n",
       "    </tr>\n",
       "    <tr>\n",
       "      <th>2</th>\n",
       "      <td>3.0</td>\n",
       "      <td>sally</td>\n",
       "      <td>3.0</td>\n",
       "      <td>3</td>\n",
       "      <td>reviewer</td>\n",
       "    </tr>\n",
       "    <tr>\n",
       "      <th>3</th>\n",
       "      <td>4.0</td>\n",
       "      <td>adam</td>\n",
       "      <td>3.0</td>\n",
       "      <td>3</td>\n",
       "      <td>reviewer</td>\n",
       "    </tr>\n",
       "    <tr>\n",
       "      <th>4</th>\n",
       "      <td>NaN</td>\n",
       "      <td>NaN</td>\n",
       "      <td>NaN</td>\n",
       "      <td>4</td>\n",
       "      <td>commenter</td>\n",
       "    </tr>\n",
       "  </tbody>\n",
       "</table>\n",
       "</div>"
      ],
      "text/plain": [
       "   id_x name_x  role_id  id_y     name_y\n",
       "0   1.0    bob      1.0     1      admin\n",
       "1   2.0    joe      2.0     2     author\n",
       "2   3.0  sally      3.0     3   reviewer\n",
       "3   4.0   adam      3.0     3   reviewer\n",
       "4   NaN    NaN      NaN     4  commenter"
      ]
     },
     "execution_count": 53,
     "metadata": {},
     "output_type": "execute_result"
    }
   ],
   "source": [
    "users.merge(roles, left_on='role_id', right_on='id', how='right')"
   ]
  },
  {
   "cell_type": "markdown",
   "id": "80fb3264-9e81-464a-9ba1-3f8ea8a2fd7a",
   "metadata": {},
   "source": [
    "##### 3. What is the result of using an outer join on the DataFrames?"
   ]
  },
  {
   "cell_type": "code",
   "execution_count": 54,
   "id": "dbdc04b5-32f7-4c90-9f2e-2d2f7004adac",
   "metadata": {},
   "outputs": [
    {
     "data": {
      "text/html": [
       "<div>\n",
       "<style scoped>\n",
       "    .dataframe tbody tr th:only-of-type {\n",
       "        vertical-align: middle;\n",
       "    }\n",
       "\n",
       "    .dataframe tbody tr th {\n",
       "        vertical-align: top;\n",
       "    }\n",
       "\n",
       "    .dataframe thead th {\n",
       "        text-align: right;\n",
       "    }\n",
       "</style>\n",
       "<table border=\"1\" class=\"dataframe\">\n",
       "  <thead>\n",
       "    <tr style=\"text-align: right;\">\n",
       "      <th></th>\n",
       "      <th>id_x</th>\n",
       "      <th>name_x</th>\n",
       "      <th>role_id</th>\n",
       "      <th>id_y</th>\n",
       "      <th>name_y</th>\n",
       "    </tr>\n",
       "  </thead>\n",
       "  <tbody>\n",
       "    <tr>\n",
       "      <th>0</th>\n",
       "      <td>1.0</td>\n",
       "      <td>bob</td>\n",
       "      <td>1.0</td>\n",
       "      <td>1.0</td>\n",
       "      <td>admin</td>\n",
       "    </tr>\n",
       "    <tr>\n",
       "      <th>1</th>\n",
       "      <td>2.0</td>\n",
       "      <td>joe</td>\n",
       "      <td>2.0</td>\n",
       "      <td>2.0</td>\n",
       "      <td>author</td>\n",
       "    </tr>\n",
       "    <tr>\n",
       "      <th>2</th>\n",
       "      <td>3.0</td>\n",
       "      <td>sally</td>\n",
       "      <td>3.0</td>\n",
       "      <td>3.0</td>\n",
       "      <td>reviewer</td>\n",
       "    </tr>\n",
       "    <tr>\n",
       "      <th>3</th>\n",
       "      <td>4.0</td>\n",
       "      <td>adam</td>\n",
       "      <td>3.0</td>\n",
       "      <td>3.0</td>\n",
       "      <td>reviewer</td>\n",
       "    </tr>\n",
       "    <tr>\n",
       "      <th>4</th>\n",
       "      <td>5.0</td>\n",
       "      <td>jane</td>\n",
       "      <td>NaN</td>\n",
       "      <td>NaN</td>\n",
       "      <td>NaN</td>\n",
       "    </tr>\n",
       "    <tr>\n",
       "      <th>5</th>\n",
       "      <td>6.0</td>\n",
       "      <td>mike</td>\n",
       "      <td>NaN</td>\n",
       "      <td>NaN</td>\n",
       "      <td>NaN</td>\n",
       "    </tr>\n",
       "    <tr>\n",
       "      <th>6</th>\n",
       "      <td>NaN</td>\n",
       "      <td>NaN</td>\n",
       "      <td>NaN</td>\n",
       "      <td>4.0</td>\n",
       "      <td>commenter</td>\n",
       "    </tr>\n",
       "  </tbody>\n",
       "</table>\n",
       "</div>"
      ],
      "text/plain": [
       "   id_x name_x  role_id  id_y     name_y\n",
       "0   1.0    bob      1.0   1.0      admin\n",
       "1   2.0    joe      2.0   2.0     author\n",
       "2   3.0  sally      3.0   3.0   reviewer\n",
       "3   4.0   adam      3.0   3.0   reviewer\n",
       "4   5.0   jane      NaN   NaN        NaN\n",
       "5   6.0   mike      NaN   NaN        NaN\n",
       "6   NaN    NaN      NaN   4.0  commenter"
      ]
     },
     "execution_count": 54,
     "metadata": {},
     "output_type": "execute_result"
    }
   ],
   "source": [
    "users.merge(roles, left_on='role_id', right_on='id', how='outer')"
   ]
  },
  {
   "cell_type": "markdown",
   "id": "8188c780-6db2-42e9-a460-2bf2d7f67044",
   "metadata": {},
   "source": [
    "##### 4. What happens if you drop the foreign keys from the DataFrames and try to merge them?"
   ]
  },
  {
   "cell_type": "code",
   "execution_count": 55,
   "id": "06795e5f-24fd-42b2-a3e6-6e365a16a081",
   "metadata": {},
   "outputs": [
    {
     "data": {
      "text/html": [
       "<div>\n",
       "<style scoped>\n",
       "    .dataframe tbody tr th:only-of-type {\n",
       "        vertical-align: middle;\n",
       "    }\n",
       "\n",
       "    .dataframe tbody tr th {\n",
       "        vertical-align: top;\n",
       "    }\n",
       "\n",
       "    .dataframe thead th {\n",
       "        text-align: right;\n",
       "    }\n",
       "</style>\n",
       "<table border=\"1\" class=\"dataframe\">\n",
       "  <thead>\n",
       "    <tr style=\"text-align: right;\">\n",
       "      <th></th>\n",
       "      <th>id</th>\n",
       "      <th>name_x</th>\n",
       "      <th>name_y</th>\n",
       "    </tr>\n",
       "  </thead>\n",
       "  <tbody>\n",
       "    <tr>\n",
       "      <th>0</th>\n",
       "      <td>1</td>\n",
       "      <td>bob</td>\n",
       "      <td>admin</td>\n",
       "    </tr>\n",
       "    <tr>\n",
       "      <th>1</th>\n",
       "      <td>2</td>\n",
       "      <td>joe</td>\n",
       "      <td>author</td>\n",
       "    </tr>\n",
       "    <tr>\n",
       "      <th>2</th>\n",
       "      <td>3</td>\n",
       "      <td>sally</td>\n",
       "      <td>reviewer</td>\n",
       "    </tr>\n",
       "    <tr>\n",
       "      <th>3</th>\n",
       "      <td>4</td>\n",
       "      <td>adam</td>\n",
       "      <td>commenter</td>\n",
       "    </tr>\n",
       "    <tr>\n",
       "      <th>4</th>\n",
       "      <td>5</td>\n",
       "      <td>jane</td>\n",
       "      <td>NaN</td>\n",
       "    </tr>\n",
       "    <tr>\n",
       "      <th>5</th>\n",
       "      <td>6</td>\n",
       "      <td>mike</td>\n",
       "      <td>NaN</td>\n",
       "    </tr>\n",
       "  </tbody>\n",
       "</table>\n",
       "</div>"
      ],
      "text/plain": [
       "   id name_x     name_y\n",
       "0   1    bob      admin\n",
       "1   2    joe     author\n",
       "2   3  sally   reviewer\n",
       "3   4   adam  commenter\n",
       "4   5   jane        NaN\n",
       "5   6   mike        NaN"
      ]
     },
     "execution_count": 55,
     "metadata": {},
     "output_type": "execute_result"
    }
   ],
   "source": [
    "u2 = users.drop(columns='role_id')\n",
    "u2.merge(roles, left_on='id', right_on='id', how='outer')"
   ]
  },
  {
   "cell_type": "markdown",
   "id": "1a24f7a8-60c7-4b33-bea0-02a0a3edc8c1",
   "metadata": {},
   "source": [
    "##### 5. Load the mpg dataset from PyDataset."
   ]
  },
  {
   "cell_type": "code",
   "execution_count": 56,
   "id": "0284368b-05ef-4fff-9613-2015a3bdc9e1",
   "metadata": {},
   "outputs": [],
   "source": [
    "from pydataset import data\n",
    "mpg = data('mpg')"
   ]
  },
  {
   "cell_type": "markdown",
   "id": "e3df493c-74fa-4014-bacd-9123161cf50d",
   "metadata": {},
   "source": [
    "##### 6. Output and read the documentation for the mpg dataset."
   ]
  },
  {
   "cell_type": "code",
   "execution_count": 57,
   "id": "ff1995c4-22f6-47d2-91a6-cdda608edb39",
   "metadata": {},
   "outputs": [
    {
     "name": "stdout",
     "output_type": "stream",
     "text": [
      "mpg\n",
      "\n",
      "PyDataset Documentation (adopted from R Documentation. The displayed examples are in R)\n",
      "\n",
      "## Fuel economy data from 1999 and 2008 for 38 popular models of car\n",
      "\n",
      "### Description\n",
      "\n",
      "This dataset contains a subset of the fuel economy data that the EPA makes\n",
      "available on http://fueleconomy.gov. It contains only models which had a new\n",
      "release every year between 1999 and 2008 - this was used as a proxy for the\n",
      "popularity of the car.\n",
      "\n",
      "### Usage\n",
      "\n",
      "    data(mpg)\n",
      "\n",
      "### Format\n",
      "\n",
      "A data frame with 234 rows and 11 variables\n",
      "\n",
      "### Details\n",
      "\n",
      "  * manufacturer. \n",
      "\n",
      "  * model. \n",
      "\n",
      "  * displ. engine displacement, in litres \n",
      "\n",
      "  * year. \n",
      "\n",
      "  * cyl. number of cylinders \n",
      "\n",
      "  * trans. type of transmission \n",
      "\n",
      "  * drv. f = front-wheel drive, r = rear wheel drive, 4 = 4wd \n",
      "\n",
      "  * cty. city miles per gallon \n",
      "\n",
      "  * hwy. highway miles per gallon \n",
      "\n",
      "  * fl. \n",
      "\n",
      "  * class. \n",
      "\n",
      "\n"
     ]
    }
   ],
   "source": [
    "data('mpg', show_doc=True)"
   ]
  },
  {
   "cell_type": "markdown",
   "id": "04b2b29e-2bbb-485a-a169-fe8d049d31ca",
   "metadata": {},
   "source": [
    "##### 7. How many rows and columns are in the dataset?"
   ]
  },
  {
   "cell_type": "code",
   "execution_count": 58,
   "id": "aae92e3e-dd9c-4169-b676-7ee80a3b5ba0",
   "metadata": {},
   "outputs": [
    {
     "data": {
      "text/plain": [
       "(234, 11)"
      ]
     },
     "execution_count": 58,
     "metadata": {},
     "output_type": "execute_result"
    }
   ],
   "source": [
    "mpg.shape"
   ]
  },
  {
   "cell_type": "markdown",
   "id": "826f2469-5b36-40a7-863a-08a071d01248",
   "metadata": {},
   "source": [
    "##### 8. Check out your column names and perform any cleanup you may want on them."
   ]
  },
  {
   "cell_type": "code",
   "execution_count": 59,
   "id": "3be6a03c-205f-4804-9cf3-6c707f24170a",
   "metadata": {},
   "outputs": [
    {
     "data": {
      "text/html": [
       "<div>\n",
       "<style scoped>\n",
       "    .dataframe tbody tr th:only-of-type {\n",
       "        vertical-align: middle;\n",
       "    }\n",
       "\n",
       "    .dataframe tbody tr th {\n",
       "        vertical-align: top;\n",
       "    }\n",
       "\n",
       "    .dataframe thead th {\n",
       "        text-align: right;\n",
       "    }\n",
       "</style>\n",
       "<table border=\"1\" class=\"dataframe\">\n",
       "  <thead>\n",
       "    <tr style=\"text-align: right;\">\n",
       "      <th></th>\n",
       "      <th>manufacturer</th>\n",
       "      <th>model</th>\n",
       "      <th>displ</th>\n",
       "      <th>year</th>\n",
       "      <th>cyl</th>\n",
       "      <th>transmission</th>\n",
       "      <th>drv</th>\n",
       "      <th>city</th>\n",
       "      <th>highway</th>\n",
       "      <th>fl</th>\n",
       "      <th>class</th>\n",
       "    </tr>\n",
       "  </thead>\n",
       "  <tbody>\n",
       "    <tr>\n",
       "      <th>1</th>\n",
       "      <td>audi</td>\n",
       "      <td>a4</td>\n",
       "      <td>1.8</td>\n",
       "      <td>1999</td>\n",
       "      <td>4</td>\n",
       "      <td>auto(l5)</td>\n",
       "      <td>f</td>\n",
       "      <td>18</td>\n",
       "      <td>29</td>\n",
       "      <td>p</td>\n",
       "      <td>compact</td>\n",
       "    </tr>\n",
       "    <tr>\n",
       "      <th>2</th>\n",
       "      <td>audi</td>\n",
       "      <td>a4</td>\n",
       "      <td>1.8</td>\n",
       "      <td>1999</td>\n",
       "      <td>4</td>\n",
       "      <td>manual(m5)</td>\n",
       "      <td>f</td>\n",
       "      <td>21</td>\n",
       "      <td>29</td>\n",
       "      <td>p</td>\n",
       "      <td>compact</td>\n",
       "    </tr>\n",
       "    <tr>\n",
       "      <th>3</th>\n",
       "      <td>audi</td>\n",
       "      <td>a4</td>\n",
       "      <td>2.0</td>\n",
       "      <td>2008</td>\n",
       "      <td>4</td>\n",
       "      <td>manual(m6)</td>\n",
       "      <td>f</td>\n",
       "      <td>20</td>\n",
       "      <td>31</td>\n",
       "      <td>p</td>\n",
       "      <td>compact</td>\n",
       "    </tr>\n",
       "    <tr>\n",
       "      <th>4</th>\n",
       "      <td>audi</td>\n",
       "      <td>a4</td>\n",
       "      <td>2.0</td>\n",
       "      <td>2008</td>\n",
       "      <td>4</td>\n",
       "      <td>auto(av)</td>\n",
       "      <td>f</td>\n",
       "      <td>21</td>\n",
       "      <td>30</td>\n",
       "      <td>p</td>\n",
       "      <td>compact</td>\n",
       "    </tr>\n",
       "    <tr>\n",
       "      <th>5</th>\n",
       "      <td>audi</td>\n",
       "      <td>a4</td>\n",
       "      <td>2.8</td>\n",
       "      <td>1999</td>\n",
       "      <td>6</td>\n",
       "      <td>auto(l5)</td>\n",
       "      <td>f</td>\n",
       "      <td>16</td>\n",
       "      <td>26</td>\n",
       "      <td>p</td>\n",
       "      <td>compact</td>\n",
       "    </tr>\n",
       "  </tbody>\n",
       "</table>\n",
       "</div>"
      ],
      "text/plain": [
       "  manufacturer model  displ  year  cyl transmission drv  city  highway fl  \\\n",
       "1         audi    a4    1.8  1999    4     auto(l5)   f    18       29  p   \n",
       "2         audi    a4    1.8  1999    4   manual(m5)   f    21       29  p   \n",
       "3         audi    a4    2.0  2008    4   manual(m6)   f    20       31  p   \n",
       "4         audi    a4    2.0  2008    4     auto(av)   f    21       30  p   \n",
       "5         audi    a4    2.8  1999    6     auto(l5)   f    16       26  p   \n",
       "\n",
       "     class  \n",
       "1  compact  \n",
       "2  compact  \n",
       "3  compact  \n",
       "4  compact  \n",
       "5  compact  "
      ]
     },
     "execution_count": 59,
     "metadata": {},
     "output_type": "execute_result"
    }
   ],
   "source": [
    "mpg = mpg.rename(columns={'cty' : 'city', 'hwy': 'highway', 'trans': 'transmission'})\n",
    "mpg.head()"
   ]
  },
  {
   "cell_type": "markdown",
   "id": "78308664-d38b-4914-90b2-030a1be0d04c",
   "metadata": {},
   "source": [
    "##### 9. Display the summary statistics for the dataset."
   ]
  },
  {
   "cell_type": "code",
   "execution_count": 60,
   "id": "4af3ae50-81a6-4599-a7dc-7536e02a47fb",
   "metadata": {},
   "outputs": [
    {
     "data": {
      "text/html": [
       "<div>\n",
       "<style scoped>\n",
       "    .dataframe tbody tr th:only-of-type {\n",
       "        vertical-align: middle;\n",
       "    }\n",
       "\n",
       "    .dataframe tbody tr th {\n",
       "        vertical-align: top;\n",
       "    }\n",
       "\n",
       "    .dataframe thead th {\n",
       "        text-align: right;\n",
       "    }\n",
       "</style>\n",
       "<table border=\"1\" class=\"dataframe\">\n",
       "  <thead>\n",
       "    <tr style=\"text-align: right;\">\n",
       "      <th></th>\n",
       "      <th>displ</th>\n",
       "      <th>year</th>\n",
       "      <th>cyl</th>\n",
       "      <th>city</th>\n",
       "      <th>highway</th>\n",
       "    </tr>\n",
       "  </thead>\n",
       "  <tbody>\n",
       "    <tr>\n",
       "      <th>count</th>\n",
       "      <td>234.000000</td>\n",
       "      <td>234.000000</td>\n",
       "      <td>234.000000</td>\n",
       "      <td>234.000000</td>\n",
       "      <td>234.000000</td>\n",
       "    </tr>\n",
       "    <tr>\n",
       "      <th>mean</th>\n",
       "      <td>3.471795</td>\n",
       "      <td>2003.500000</td>\n",
       "      <td>5.888889</td>\n",
       "      <td>16.858974</td>\n",
       "      <td>23.440171</td>\n",
       "    </tr>\n",
       "    <tr>\n",
       "      <th>std</th>\n",
       "      <td>1.291959</td>\n",
       "      <td>4.509646</td>\n",
       "      <td>1.611534</td>\n",
       "      <td>4.255946</td>\n",
       "      <td>5.954643</td>\n",
       "    </tr>\n",
       "    <tr>\n",
       "      <th>min</th>\n",
       "      <td>1.600000</td>\n",
       "      <td>1999.000000</td>\n",
       "      <td>4.000000</td>\n",
       "      <td>9.000000</td>\n",
       "      <td>12.000000</td>\n",
       "    </tr>\n",
       "    <tr>\n",
       "      <th>25%</th>\n",
       "      <td>2.400000</td>\n",
       "      <td>1999.000000</td>\n",
       "      <td>4.000000</td>\n",
       "      <td>14.000000</td>\n",
       "      <td>18.000000</td>\n",
       "    </tr>\n",
       "    <tr>\n",
       "      <th>50%</th>\n",
       "      <td>3.300000</td>\n",
       "      <td>2003.500000</td>\n",
       "      <td>6.000000</td>\n",
       "      <td>17.000000</td>\n",
       "      <td>24.000000</td>\n",
       "    </tr>\n",
       "    <tr>\n",
       "      <th>75%</th>\n",
       "      <td>4.600000</td>\n",
       "      <td>2008.000000</td>\n",
       "      <td>8.000000</td>\n",
       "      <td>19.000000</td>\n",
       "      <td>27.000000</td>\n",
       "    </tr>\n",
       "    <tr>\n",
       "      <th>max</th>\n",
       "      <td>7.000000</td>\n",
       "      <td>2008.000000</td>\n",
       "      <td>8.000000</td>\n",
       "      <td>35.000000</td>\n",
       "      <td>44.000000</td>\n",
       "    </tr>\n",
       "  </tbody>\n",
       "</table>\n",
       "</div>"
      ],
      "text/plain": [
       "            displ         year         cyl        city     highway\n",
       "count  234.000000   234.000000  234.000000  234.000000  234.000000\n",
       "mean     3.471795  2003.500000    5.888889   16.858974   23.440171\n",
       "std      1.291959     4.509646    1.611534    4.255946    5.954643\n",
       "min      1.600000  1999.000000    4.000000    9.000000   12.000000\n",
       "25%      2.400000  1999.000000    4.000000   14.000000   18.000000\n",
       "50%      3.300000  2003.500000    6.000000   17.000000   24.000000\n",
       "75%      4.600000  2008.000000    8.000000   19.000000   27.000000\n",
       "max      7.000000  2008.000000    8.000000   35.000000   44.000000"
      ]
     },
     "execution_count": 60,
     "metadata": {},
     "output_type": "execute_result"
    }
   ],
   "source": [
    "mpg.describe()"
   ]
  },
  {
   "cell_type": "markdown",
   "id": "09fda99c-9e43-4318-b264-578b8cf96cc3",
   "metadata": {},
   "source": [
    "##### 10. How many different manufacturers are there?"
   ]
  },
  {
   "cell_type": "code",
   "execution_count": 61,
   "id": "a7d885b1-6b05-40b3-b916-78fff02a89ad",
   "metadata": {},
   "outputs": [
    {
     "data": {
      "text/plain": [
       "15"
      ]
     },
     "execution_count": 61,
     "metadata": {},
     "output_type": "execute_result"
    }
   ],
   "source": [
    "len(mpg.manufacturer.unique())"
   ]
  },
  {
   "cell_type": "markdown",
   "id": "725f18aa-2a83-4d6f-83ed-32b0705db990",
   "metadata": {},
   "source": [
    "##### 11. How many different models are there?"
   ]
  },
  {
   "cell_type": "code",
   "execution_count": 62,
   "id": "3b3da666-fac0-4e4d-904f-4f040a759f50",
   "metadata": {},
   "outputs": [
    {
     "data": {
      "text/plain": [
       "38"
      ]
     },
     "execution_count": 62,
     "metadata": {},
     "output_type": "execute_result"
    }
   ],
   "source": [
    "len(mpg.model.unique())"
   ]
  },
  {
   "cell_type": "markdown",
   "id": "082b4937-a4b9-49f6-892c-304cd7218b14",
   "metadata": {},
   "source": [
    "##### 12. Create a column named mileage_difference like you did in the DataFrames exercises; this column should contain the difference between highway and city mileage for each car."
   ]
  },
  {
   "cell_type": "code",
   "execution_count": 63,
   "id": "b49956bc-b074-49db-909d-4be8b41ac718",
   "metadata": {},
   "outputs": [
    {
     "data": {
      "text/html": [
       "<div>\n",
       "<style scoped>\n",
       "    .dataframe tbody tr th:only-of-type {\n",
       "        vertical-align: middle;\n",
       "    }\n",
       "\n",
       "    .dataframe tbody tr th {\n",
       "        vertical-align: top;\n",
       "    }\n",
       "\n",
       "    .dataframe thead th {\n",
       "        text-align: right;\n",
       "    }\n",
       "</style>\n",
       "<table border=\"1\" class=\"dataframe\">\n",
       "  <thead>\n",
       "    <tr style=\"text-align: right;\">\n",
       "      <th></th>\n",
       "      <th>manufacturer</th>\n",
       "      <th>model</th>\n",
       "      <th>displ</th>\n",
       "      <th>year</th>\n",
       "      <th>cyl</th>\n",
       "      <th>transmission</th>\n",
       "      <th>drv</th>\n",
       "      <th>city</th>\n",
       "      <th>highway</th>\n",
       "      <th>fl</th>\n",
       "      <th>class</th>\n",
       "      <th>mileage_difference</th>\n",
       "    </tr>\n",
       "  </thead>\n",
       "  <tbody>\n",
       "    <tr>\n",
       "      <th>1</th>\n",
       "      <td>audi</td>\n",
       "      <td>a4</td>\n",
       "      <td>1.8</td>\n",
       "      <td>1999</td>\n",
       "      <td>4</td>\n",
       "      <td>auto(l5)</td>\n",
       "      <td>f</td>\n",
       "      <td>18</td>\n",
       "      <td>29</td>\n",
       "      <td>p</td>\n",
       "      <td>compact</td>\n",
       "      <td>11</td>\n",
       "    </tr>\n",
       "    <tr>\n",
       "      <th>2</th>\n",
       "      <td>audi</td>\n",
       "      <td>a4</td>\n",
       "      <td>1.8</td>\n",
       "      <td>1999</td>\n",
       "      <td>4</td>\n",
       "      <td>manual(m5)</td>\n",
       "      <td>f</td>\n",
       "      <td>21</td>\n",
       "      <td>29</td>\n",
       "      <td>p</td>\n",
       "      <td>compact</td>\n",
       "      <td>8</td>\n",
       "    </tr>\n",
       "    <tr>\n",
       "      <th>3</th>\n",
       "      <td>audi</td>\n",
       "      <td>a4</td>\n",
       "      <td>2.0</td>\n",
       "      <td>2008</td>\n",
       "      <td>4</td>\n",
       "      <td>manual(m6)</td>\n",
       "      <td>f</td>\n",
       "      <td>20</td>\n",
       "      <td>31</td>\n",
       "      <td>p</td>\n",
       "      <td>compact</td>\n",
       "      <td>11</td>\n",
       "    </tr>\n",
       "    <tr>\n",
       "      <th>4</th>\n",
       "      <td>audi</td>\n",
       "      <td>a4</td>\n",
       "      <td>2.0</td>\n",
       "      <td>2008</td>\n",
       "      <td>4</td>\n",
       "      <td>auto(av)</td>\n",
       "      <td>f</td>\n",
       "      <td>21</td>\n",
       "      <td>30</td>\n",
       "      <td>p</td>\n",
       "      <td>compact</td>\n",
       "      <td>9</td>\n",
       "    </tr>\n",
       "    <tr>\n",
       "      <th>5</th>\n",
       "      <td>audi</td>\n",
       "      <td>a4</td>\n",
       "      <td>2.8</td>\n",
       "      <td>1999</td>\n",
       "      <td>6</td>\n",
       "      <td>auto(l5)</td>\n",
       "      <td>f</td>\n",
       "      <td>16</td>\n",
       "      <td>26</td>\n",
       "      <td>p</td>\n",
       "      <td>compact</td>\n",
       "      <td>10</td>\n",
       "    </tr>\n",
       "  </tbody>\n",
       "</table>\n",
       "</div>"
      ],
      "text/plain": [
       "  manufacturer model  displ  year  cyl transmission drv  city  highway fl  \\\n",
       "1         audi    a4    1.8  1999    4     auto(l5)   f    18       29  p   \n",
       "2         audi    a4    1.8  1999    4   manual(m5)   f    21       29  p   \n",
       "3         audi    a4    2.0  2008    4   manual(m6)   f    20       31  p   \n",
       "4         audi    a4    2.0  2008    4     auto(av)   f    21       30  p   \n",
       "5         audi    a4    2.8  1999    6     auto(l5)   f    16       26  p   \n",
       "\n",
       "     class  mileage_difference  \n",
       "1  compact                  11  \n",
       "2  compact                   8  \n",
       "3  compact                  11  \n",
       "4  compact                   9  \n",
       "5  compact                  10  "
      ]
     },
     "execution_count": 63,
     "metadata": {},
     "output_type": "execute_result"
    }
   ],
   "source": [
    "mpg['mileage_difference'] = mpg.highway - mpg.city\n",
    "mpg.head()"
   ]
  },
  {
   "cell_type": "markdown",
   "id": "3d7f1dec-2923-4be1-bcc6-01fee6dae829",
   "metadata": {},
   "source": [
    "##### 13. Create a column named average_mileage like you did in the DataFrames exercises; this is the mean of the city and highway mileage."
   ]
  },
  {
   "cell_type": "code",
   "execution_count": 64,
   "id": "f9da1007-19f5-4ba4-ac78-740b16c05d78",
   "metadata": {},
   "outputs": [
    {
     "data": {
      "text/html": [
       "<div>\n",
       "<style scoped>\n",
       "    .dataframe tbody tr th:only-of-type {\n",
       "        vertical-align: middle;\n",
       "    }\n",
       "\n",
       "    .dataframe tbody tr th {\n",
       "        vertical-align: top;\n",
       "    }\n",
       "\n",
       "    .dataframe thead th {\n",
       "        text-align: right;\n",
       "    }\n",
       "</style>\n",
       "<table border=\"1\" class=\"dataframe\">\n",
       "  <thead>\n",
       "    <tr style=\"text-align: right;\">\n",
       "      <th></th>\n",
       "      <th>manufacturer</th>\n",
       "      <th>model</th>\n",
       "      <th>displ</th>\n",
       "      <th>year</th>\n",
       "      <th>cyl</th>\n",
       "      <th>transmission</th>\n",
       "      <th>drv</th>\n",
       "      <th>city</th>\n",
       "      <th>highway</th>\n",
       "      <th>fl</th>\n",
       "      <th>class</th>\n",
       "      <th>mileage_difference</th>\n",
       "      <th>avg_mileage</th>\n",
       "    </tr>\n",
       "  </thead>\n",
       "  <tbody>\n",
       "    <tr>\n",
       "      <th>1</th>\n",
       "      <td>audi</td>\n",
       "      <td>a4</td>\n",
       "      <td>1.8</td>\n",
       "      <td>1999</td>\n",
       "      <td>4</td>\n",
       "      <td>auto(l5)</td>\n",
       "      <td>f</td>\n",
       "      <td>18</td>\n",
       "      <td>29</td>\n",
       "      <td>p</td>\n",
       "      <td>compact</td>\n",
       "      <td>11</td>\n",
       "      <td>23.5</td>\n",
       "    </tr>\n",
       "    <tr>\n",
       "      <th>2</th>\n",
       "      <td>audi</td>\n",
       "      <td>a4</td>\n",
       "      <td>1.8</td>\n",
       "      <td>1999</td>\n",
       "      <td>4</td>\n",
       "      <td>manual(m5)</td>\n",
       "      <td>f</td>\n",
       "      <td>21</td>\n",
       "      <td>29</td>\n",
       "      <td>p</td>\n",
       "      <td>compact</td>\n",
       "      <td>8</td>\n",
       "      <td>25.0</td>\n",
       "    </tr>\n",
       "    <tr>\n",
       "      <th>3</th>\n",
       "      <td>audi</td>\n",
       "      <td>a4</td>\n",
       "      <td>2.0</td>\n",
       "      <td>2008</td>\n",
       "      <td>4</td>\n",
       "      <td>manual(m6)</td>\n",
       "      <td>f</td>\n",
       "      <td>20</td>\n",
       "      <td>31</td>\n",
       "      <td>p</td>\n",
       "      <td>compact</td>\n",
       "      <td>11</td>\n",
       "      <td>25.5</td>\n",
       "    </tr>\n",
       "    <tr>\n",
       "      <th>4</th>\n",
       "      <td>audi</td>\n",
       "      <td>a4</td>\n",
       "      <td>2.0</td>\n",
       "      <td>2008</td>\n",
       "      <td>4</td>\n",
       "      <td>auto(av)</td>\n",
       "      <td>f</td>\n",
       "      <td>21</td>\n",
       "      <td>30</td>\n",
       "      <td>p</td>\n",
       "      <td>compact</td>\n",
       "      <td>9</td>\n",
       "      <td>25.5</td>\n",
       "    </tr>\n",
       "    <tr>\n",
       "      <th>5</th>\n",
       "      <td>audi</td>\n",
       "      <td>a4</td>\n",
       "      <td>2.8</td>\n",
       "      <td>1999</td>\n",
       "      <td>6</td>\n",
       "      <td>auto(l5)</td>\n",
       "      <td>f</td>\n",
       "      <td>16</td>\n",
       "      <td>26</td>\n",
       "      <td>p</td>\n",
       "      <td>compact</td>\n",
       "      <td>10</td>\n",
       "      <td>21.0</td>\n",
       "    </tr>\n",
       "  </tbody>\n",
       "</table>\n",
       "</div>"
      ],
      "text/plain": [
       "  manufacturer model  displ  year  cyl transmission drv  city  highway fl  \\\n",
       "1         audi    a4    1.8  1999    4     auto(l5)   f    18       29  p   \n",
       "2         audi    a4    1.8  1999    4   manual(m5)   f    21       29  p   \n",
       "3         audi    a4    2.0  2008    4   manual(m6)   f    20       31  p   \n",
       "4         audi    a4    2.0  2008    4     auto(av)   f    21       30  p   \n",
       "5         audi    a4    2.8  1999    6     auto(l5)   f    16       26  p   \n",
       "\n",
       "     class  mileage_difference  avg_mileage  \n",
       "1  compact                  11         23.5  \n",
       "2  compact                   8         25.0  \n",
       "3  compact                  11         25.5  \n",
       "4  compact                   9         25.5  \n",
       "5  compact                  10         21.0  "
      ]
     },
     "execution_count": 64,
     "metadata": {},
     "output_type": "execute_result"
    }
   ],
   "source": [
    "mpg['avg_mileage'] = (mpg.highway+mpg.city)/2\n",
    "mpg.head()"
   ]
  },
  {
   "cell_type": "markdown",
   "id": "a0c60617-3989-42a1-860f-2f1a65459513",
   "metadata": {},
   "source": [
    "##### 14. Create a new column on the mpg dataset named is_automatic that holds boolean values denoting whether the car has an automatic transmission."
   ]
  },
  {
   "cell_type": "code",
   "execution_count": 65,
   "id": "2792a027-8999-42c5-a7b1-2e63a6fe0a66",
   "metadata": {},
   "outputs": [
    {
     "data": {
      "text/html": [
       "<div>\n",
       "<style scoped>\n",
       "    .dataframe tbody tr th:only-of-type {\n",
       "        vertical-align: middle;\n",
       "    }\n",
       "\n",
       "    .dataframe tbody tr th {\n",
       "        vertical-align: top;\n",
       "    }\n",
       "\n",
       "    .dataframe thead th {\n",
       "        text-align: right;\n",
       "    }\n",
       "</style>\n",
       "<table border=\"1\" class=\"dataframe\">\n",
       "  <thead>\n",
       "    <tr style=\"text-align: right;\">\n",
       "      <th></th>\n",
       "      <th>manufacturer</th>\n",
       "      <th>model</th>\n",
       "      <th>displ</th>\n",
       "      <th>year</th>\n",
       "      <th>cyl</th>\n",
       "      <th>transmission</th>\n",
       "      <th>drv</th>\n",
       "      <th>city</th>\n",
       "      <th>highway</th>\n",
       "      <th>fl</th>\n",
       "      <th>class</th>\n",
       "      <th>mileage_difference</th>\n",
       "      <th>avg_mileage</th>\n",
       "      <th>is_automatic</th>\n",
       "    </tr>\n",
       "  </thead>\n",
       "  <tbody>\n",
       "    <tr>\n",
       "      <th>1</th>\n",
       "      <td>audi</td>\n",
       "      <td>a4</td>\n",
       "      <td>1.8</td>\n",
       "      <td>1999</td>\n",
       "      <td>4</td>\n",
       "      <td>auto(l5)</td>\n",
       "      <td>f</td>\n",
       "      <td>18</td>\n",
       "      <td>29</td>\n",
       "      <td>p</td>\n",
       "      <td>compact</td>\n",
       "      <td>11</td>\n",
       "      <td>23.5</td>\n",
       "      <td>True</td>\n",
       "    </tr>\n",
       "    <tr>\n",
       "      <th>2</th>\n",
       "      <td>audi</td>\n",
       "      <td>a4</td>\n",
       "      <td>1.8</td>\n",
       "      <td>1999</td>\n",
       "      <td>4</td>\n",
       "      <td>manual(m5)</td>\n",
       "      <td>f</td>\n",
       "      <td>21</td>\n",
       "      <td>29</td>\n",
       "      <td>p</td>\n",
       "      <td>compact</td>\n",
       "      <td>8</td>\n",
       "      <td>25.0</td>\n",
       "      <td>False</td>\n",
       "    </tr>\n",
       "    <tr>\n",
       "      <th>3</th>\n",
       "      <td>audi</td>\n",
       "      <td>a4</td>\n",
       "      <td>2.0</td>\n",
       "      <td>2008</td>\n",
       "      <td>4</td>\n",
       "      <td>manual(m6)</td>\n",
       "      <td>f</td>\n",
       "      <td>20</td>\n",
       "      <td>31</td>\n",
       "      <td>p</td>\n",
       "      <td>compact</td>\n",
       "      <td>11</td>\n",
       "      <td>25.5</td>\n",
       "      <td>False</td>\n",
       "    </tr>\n",
       "    <tr>\n",
       "      <th>4</th>\n",
       "      <td>audi</td>\n",
       "      <td>a4</td>\n",
       "      <td>2.0</td>\n",
       "      <td>2008</td>\n",
       "      <td>4</td>\n",
       "      <td>auto(av)</td>\n",
       "      <td>f</td>\n",
       "      <td>21</td>\n",
       "      <td>30</td>\n",
       "      <td>p</td>\n",
       "      <td>compact</td>\n",
       "      <td>9</td>\n",
       "      <td>25.5</td>\n",
       "      <td>True</td>\n",
       "    </tr>\n",
       "    <tr>\n",
       "      <th>5</th>\n",
       "      <td>audi</td>\n",
       "      <td>a4</td>\n",
       "      <td>2.8</td>\n",
       "      <td>1999</td>\n",
       "      <td>6</td>\n",
       "      <td>auto(l5)</td>\n",
       "      <td>f</td>\n",
       "      <td>16</td>\n",
       "      <td>26</td>\n",
       "      <td>p</td>\n",
       "      <td>compact</td>\n",
       "      <td>10</td>\n",
       "      <td>21.0</td>\n",
       "      <td>True</td>\n",
       "    </tr>\n",
       "  </tbody>\n",
       "</table>\n",
       "</div>"
      ],
      "text/plain": [
       "  manufacturer model  displ  year  cyl transmission drv  city  highway fl  \\\n",
       "1         audi    a4    1.8  1999    4     auto(l5)   f    18       29  p   \n",
       "2         audi    a4    1.8  1999    4   manual(m5)   f    21       29  p   \n",
       "3         audi    a4    2.0  2008    4   manual(m6)   f    20       31  p   \n",
       "4         audi    a4    2.0  2008    4     auto(av)   f    21       30  p   \n",
       "5         audi    a4    2.8  1999    6     auto(l5)   f    16       26  p   \n",
       "\n",
       "     class  mileage_difference  avg_mileage  is_automatic  \n",
       "1  compact                  11         23.5          True  \n",
       "2  compact                   8         25.0         False  \n",
       "3  compact                  11         25.5         False  \n",
       "4  compact                   9         25.5          True  \n",
       "5  compact                  10         21.0          True  "
      ]
     },
     "execution_count": 65,
     "metadata": {},
     "output_type": "execute_result"
    }
   ],
   "source": [
    "mpg['is_automatic'] = mpg.transmission.str.contains('auto')\n",
    "mpg.head()"
   ]
  },
  {
   "cell_type": "markdown",
   "id": "c9908d5b-02ce-4996-97f2-42bd0e2f7b12",
   "metadata": {},
   "source": [
    "##### 15. Using the mpg dataset, find out which which manufacturer has the best miles per gallon on average?"
   ]
  },
  {
   "cell_type": "code",
   "execution_count": 66,
   "id": "d1b7cf10-8ca3-4be4-8979-522f0bef916e",
   "metadata": {},
   "outputs": [
    {
     "data": {
      "text/html": [
       "<div>\n",
       "<style scoped>\n",
       "    .dataframe tbody tr th:only-of-type {\n",
       "        vertical-align: middle;\n",
       "    }\n",
       "\n",
       "    .dataframe tbody tr th {\n",
       "        vertical-align: top;\n",
       "    }\n",
       "\n",
       "    .dataframe thead th {\n",
       "        text-align: right;\n",
       "    }\n",
       "</style>\n",
       "<table border=\"1\" class=\"dataframe\">\n",
       "  <thead>\n",
       "    <tr style=\"text-align: right;\">\n",
       "      <th></th>\n",
       "      <th>manufacturer</th>\n",
       "      <th>model</th>\n",
       "      <th>displ</th>\n",
       "      <th>year</th>\n",
       "      <th>cyl</th>\n",
       "      <th>transmission</th>\n",
       "      <th>drv</th>\n",
       "      <th>city</th>\n",
       "      <th>highway</th>\n",
       "      <th>fl</th>\n",
       "      <th>class</th>\n",
       "      <th>mileage_difference</th>\n",
       "      <th>avg_mileage</th>\n",
       "      <th>is_automatic</th>\n",
       "    </tr>\n",
       "  </thead>\n",
       "  <tbody>\n",
       "    <tr>\n",
       "      <th>222</th>\n",
       "      <td>volkswagen</td>\n",
       "      <td>new beetle</td>\n",
       "      <td>1.9</td>\n",
       "      <td>1999</td>\n",
       "      <td>4</td>\n",
       "      <td>manual(m5)</td>\n",
       "      <td>f</td>\n",
       "      <td>35</td>\n",
       "      <td>44</td>\n",
       "      <td>d</td>\n",
       "      <td>subcompact</td>\n",
       "      <td>9</td>\n",
       "      <td>39.5</td>\n",
       "      <td>False</td>\n",
       "    </tr>\n",
       "  </tbody>\n",
       "</table>\n",
       "</div>"
      ],
      "text/plain": [
       "    manufacturer       model  displ  year  cyl transmission drv  city  \\\n",
       "222   volkswagen  new beetle    1.9  1999    4   manual(m5)   f    35   \n",
       "\n",
       "     highway fl       class  mileage_difference  avg_mileage  is_automatic  \n",
       "222       44  d  subcompact                   9         39.5         False  "
      ]
     },
     "execution_count": 66,
     "metadata": {},
     "output_type": "execute_result"
    }
   ],
   "source": [
    "mpg[mpg.avg_mileage == mpg.avg_mileage.max()]"
   ]
  },
  {
   "cell_type": "markdown",
   "id": "2cfdb764-ddf6-411b-93de-fb3f7377c05a",
   "metadata": {},
   "source": [
    "##### 16. Do automatic or manual cars have better miles per gallon?"
   ]
  },
  {
   "cell_type": "code",
   "execution_count": 67,
   "id": "02b89a1d-8a3b-4750-9bf1-771022c8ff2b",
   "metadata": {},
   "outputs": [
    {
     "data": {
      "text/plain": [
       "is_automatic\n",
       "False    22.227273\n",
       "True     19.130573\n",
       "Name: avg_mileage, dtype: float64"
      ]
     },
     "execution_count": 67,
     "metadata": {},
     "output_type": "execute_result"
    }
   ],
   "source": [
    "mpg.groupby('is_automatic').avg_mileage.mean()"
   ]
  },
  {
   "cell_type": "markdown",
   "id": "e3112ab8-226d-4e1c-9206-a883b7b0ef23",
   "metadata": {
    "tags": []
   },
   "source": [
    "## PART III"
   ]
  },
  {
   "cell_type": "markdown",
   "id": "b8e0bb03-91c2-4258-8cfc-22c8bc92631f",
   "metadata": {
    "tags": []
   },
   "source": [
    "##### 1. Use your get_db_url function to help you explore the data from the chipotle database."
   ]
  },
  {
   "cell_type": "code",
   "execution_count": 68,
   "id": "6e298b7d-de8c-42ab-a525-3536bf275076",
   "metadata": {},
   "outputs": [],
   "source": [
    "user = env.user\n",
    "password = env.password\n",
    "host = env.host\n",
    "schema = 'chipotle'\n",
    "conn = f'mysql+pymysql://{user}:{password}@{host}/{schema}'\n"
   ]
  },
  {
   "cell_type": "markdown",
   "id": "290d1ee5-731d-4cb2-b0a4-66a2a7f3d58a",
   "metadata": {},
   "source": [
    "##### 2. What is the total price for each order?"
   ]
  },
  {
   "cell_type": "code",
   "execution_count": 69,
   "id": "833917ab-ecfa-4529-925e-4bf8618b09ba",
   "metadata": {},
   "outputs": [],
   "source": [
    "orders = '''\n",
    "    SELECT *\n",
    "    FROM orders\n",
    "'''"
   ]
  },
  {
   "cell_type": "code",
   "execution_count": 70,
   "id": "3412af81-059b-40ab-8eb8-5a04b381ac7f",
   "metadata": {},
   "outputs": [],
   "source": [
    "chip = pd.read_sql(orders, conn)"
   ]
  },
  {
   "cell_type": "code",
   "execution_count": 71,
   "id": "457d1783-ede0-456f-b633-dbf515e048af",
   "metadata": {},
   "outputs": [
    {
     "data": {
      "text/html": [
       "<div>\n",
       "<style scoped>\n",
       "    .dataframe tbody tr th:only-of-type {\n",
       "        vertical-align: middle;\n",
       "    }\n",
       "\n",
       "    .dataframe tbody tr th {\n",
       "        vertical-align: top;\n",
       "    }\n",
       "\n",
       "    .dataframe thead th {\n",
       "        text-align: right;\n",
       "    }\n",
       "</style>\n",
       "<table border=\"1\" class=\"dataframe\">\n",
       "  <thead>\n",
       "    <tr style=\"text-align: right;\">\n",
       "      <th></th>\n",
       "      <th>id</th>\n",
       "      <th>order_id</th>\n",
       "      <th>quantity</th>\n",
       "      <th>item_name</th>\n",
       "      <th>choice_description</th>\n",
       "      <th>item_price</th>\n",
       "    </tr>\n",
       "  </thead>\n",
       "  <tbody>\n",
       "    <tr>\n",
       "      <th>0</th>\n",
       "      <td>1</td>\n",
       "      <td>1</td>\n",
       "      <td>1</td>\n",
       "      <td>Chips and Fresh Tomato Salsa</td>\n",
       "      <td>nan</td>\n",
       "      <td>$2.39</td>\n",
       "    </tr>\n",
       "    <tr>\n",
       "      <th>1</th>\n",
       "      <td>2</td>\n",
       "      <td>1</td>\n",
       "      <td>1</td>\n",
       "      <td>Izze</td>\n",
       "      <td>[Clementine]</td>\n",
       "      <td>$3.39</td>\n",
       "    </tr>\n",
       "    <tr>\n",
       "      <th>2</th>\n",
       "      <td>3</td>\n",
       "      <td>1</td>\n",
       "      <td>1</td>\n",
       "      <td>Nantucket Nectar</td>\n",
       "      <td>[Apple]</td>\n",
       "      <td>$3.39</td>\n",
       "    </tr>\n",
       "    <tr>\n",
       "      <th>3</th>\n",
       "      <td>4</td>\n",
       "      <td>1</td>\n",
       "      <td>1</td>\n",
       "      <td>Chips and Tomatillo-Green Chili Salsa</td>\n",
       "      <td>nan</td>\n",
       "      <td>$2.39</td>\n",
       "    </tr>\n",
       "    <tr>\n",
       "      <th>4</th>\n",
       "      <td>5</td>\n",
       "      <td>2</td>\n",
       "      <td>2</td>\n",
       "      <td>Chicken Bowl</td>\n",
       "      <td>[Tomatillo-Red Chili Salsa (Hot), [Black Beans, Rice, Cheese, Sour Cream]]</td>\n",
       "      <td>$16.98</td>\n",
       "    </tr>\n",
       "  </tbody>\n",
       "</table>\n",
       "</div>"
      ],
      "text/plain": [
       "   id  order_id  quantity                              item_name  \\\n",
       "0   1         1         1           Chips and Fresh Tomato Salsa   \n",
       "1   2         1         1                                   Izze   \n",
       "2   3         1         1                       Nantucket Nectar   \n",
       "3   4         1         1  Chips and Tomatillo-Green Chili Salsa   \n",
       "4   5         2         2                           Chicken Bowl   \n",
       "\n",
       "                                                           choice_description  \\\n",
       "0                                                                         nan   \n",
       "1                                                                [Clementine]   \n",
       "2                                                                     [Apple]   \n",
       "3                                                                         nan   \n",
       "4  [Tomatillo-Red Chili Salsa (Hot), [Black Beans, Rice, Cheese, Sour Cream]]   \n",
       "\n",
       "  item_price  \n",
       "0     $2.39   \n",
       "1     $3.39   \n",
       "2     $3.39   \n",
       "3     $2.39   \n",
       "4    $16.98   "
      ]
     },
     "execution_count": 71,
     "metadata": {},
     "output_type": "execute_result"
    }
   ],
   "source": [
    "chip.head()"
   ]
  },
  {
   "cell_type": "code",
   "execution_count": 72,
   "id": "a852fec3-8677-4187-a67e-90c03e5a7f5f",
   "metadata": {},
   "outputs": [],
   "source": [
    "chip[\"item_price\"]= chip.item_price.str.strip('$').astype('float')"
   ]
  },
  {
   "cell_type": "code",
   "execution_count": 73,
   "id": "ff7eb59f-63f4-4302-ab93-285a6bc1e15f",
   "metadata": {},
   "outputs": [
    {
     "data": {
      "text/html": [
       "<div>\n",
       "<style scoped>\n",
       "    .dataframe tbody tr th:only-of-type {\n",
       "        vertical-align: middle;\n",
       "    }\n",
       "\n",
       "    .dataframe tbody tr th {\n",
       "        vertical-align: top;\n",
       "    }\n",
       "\n",
       "    .dataframe thead th {\n",
       "        text-align: right;\n",
       "    }\n",
       "</style>\n",
       "<table border=\"1\" class=\"dataframe\">\n",
       "  <thead>\n",
       "    <tr style=\"text-align: right;\">\n",
       "      <th></th>\n",
       "      <th>sum</th>\n",
       "    </tr>\n",
       "    <tr>\n",
       "      <th>order_id</th>\n",
       "      <th></th>\n",
       "    </tr>\n",
       "  </thead>\n",
       "  <tbody>\n",
       "    <tr>\n",
       "      <th>1</th>\n",
       "      <td>11.56</td>\n",
       "    </tr>\n",
       "    <tr>\n",
       "      <th>2</th>\n",
       "      <td>16.98</td>\n",
       "    </tr>\n",
       "    <tr>\n",
       "      <th>3</th>\n",
       "      <td>12.67</td>\n",
       "    </tr>\n",
       "    <tr>\n",
       "      <th>4</th>\n",
       "      <td>21.00</td>\n",
       "    </tr>\n",
       "    <tr>\n",
       "      <th>5</th>\n",
       "      <td>13.70</td>\n",
       "    </tr>\n",
       "    <tr>\n",
       "      <th>...</th>\n",
       "      <td>...</td>\n",
       "    </tr>\n",
       "    <tr>\n",
       "      <th>1830</th>\n",
       "      <td>23.00</td>\n",
       "    </tr>\n",
       "    <tr>\n",
       "      <th>1831</th>\n",
       "      <td>12.90</td>\n",
       "    </tr>\n",
       "    <tr>\n",
       "      <th>1832</th>\n",
       "      <td>13.20</td>\n",
       "    </tr>\n",
       "    <tr>\n",
       "      <th>1833</th>\n",
       "      <td>23.50</td>\n",
       "    </tr>\n",
       "    <tr>\n",
       "      <th>1834</th>\n",
       "      <td>28.75</td>\n",
       "    </tr>\n",
       "  </tbody>\n",
       "</table>\n",
       "<p>1834 rows × 1 columns</p>\n",
       "</div>"
      ],
      "text/plain": [
       "            sum\n",
       "order_id       \n",
       "1         11.56\n",
       "2         16.98\n",
       "3         12.67\n",
       "4         21.00\n",
       "5         13.70\n",
       "...         ...\n",
       "1830      23.00\n",
       "1831      12.90\n",
       "1832      13.20\n",
       "1833      23.50\n",
       "1834      28.75\n",
       "\n",
       "[1834 rows x 1 columns]"
      ]
     },
     "execution_count": 73,
     "metadata": {},
     "output_type": "execute_result"
    }
   ],
   "source": [
    "chip.groupby('order_id').item_price.agg(['sum'])"
   ]
  },
  {
   "cell_type": "markdown",
   "id": "98785b03-9da8-482f-ae58-ecc04937d4c0",
   "metadata": {},
   "source": [
    "##### 3. What are the most popular 3 items?"
   ]
  },
  {
   "cell_type": "code",
   "execution_count": 74,
   "id": "de6524e1-999d-49f9-a499-4fc5d665910b",
   "metadata": {},
   "outputs": [
    {
     "data": {
      "text/plain": [
       "item_name\n",
       "Chicken Bowl           761\n",
       "Chicken Burrito        591\n",
       "Chips and Guacamole    506\n",
       "Name: quantity, dtype: int64"
      ]
     },
     "execution_count": 74,
     "metadata": {},
     "output_type": "execute_result"
    }
   ],
   "source": [
    "chip.groupby('item_name').quantity.agg('sum').sort_values(ascending=False).head(3)"
   ]
  },
  {
   "cell_type": "markdown",
   "id": "8dfad3c2-6d7e-49d5-9351-bd0e01a5b2e8",
   "metadata": {},
   "source": [
    "##### 4. Which item has produced the most revenue?"
   ]
  },
  {
   "cell_type": "code",
   "execution_count": 75,
   "id": "6d927e86-1ddc-41f3-a3fa-bd010e209053",
   "metadata": {},
   "outputs": [],
   "source": [
    "chip['bill'] = (chip.quantity)*chip.item_price"
   ]
  },
  {
   "cell_type": "code",
   "execution_count": 76,
   "id": "b3fcb9d8-6578-4417-a393-f0be965fb425",
   "metadata": {},
   "outputs": [
    {
     "data": {
      "text/plain": [
       "'Chicken Bowl'"
      ]
     },
     "execution_count": 76,
     "metadata": {},
     "output_type": "execute_result"
    }
   ],
   "source": [
    "chip.groupby('item_name').bill.agg('sum').sort_values(ascending=False).idxmax()"
   ]
  },
  {
   "cell_type": "markdown",
   "id": "2e9aea10-de38-41ca-8385-49acacb60665",
   "metadata": {},
   "source": [
    "##### 5. Join the employees and titles DataFrames together."
   ]
  },
  {
   "cell_type": "code",
   "execution_count": 77,
   "id": "754c2a0d-984d-4cc2-bf1d-1830d583e18c",
   "metadata": {},
   "outputs": [],
   "source": [
    "#emps_df and titles_df pulled in part I"
   ]
  },
  {
   "cell_type": "code",
   "execution_count": 78,
   "id": "0aaf6e15-32e6-42fa-bfa4-4d57ed6bfaa6",
   "metadata": {},
   "outputs": [],
   "source": [
    "et_df = emps_df.merge(titles_df, how='inner', on='emp_no')"
   ]
  },
  {
   "cell_type": "code",
   "execution_count": 79,
   "id": "7f03dba0-1245-4651-a61f-03a2039bbb64",
   "metadata": {},
   "outputs": [],
   "source": [
    "et_df.to_csv('employees_and_titles.csv')"
   ]
  },
  {
   "cell_type": "code",
   "execution_count": 80,
   "id": "5299a25f-0733-4764-8616-8958bf5c911f",
   "metadata": {},
   "outputs": [],
   "source": [
    "et = pd.read_csv('employees_and_titles.csv', index_col=0)"
   ]
  },
  {
   "cell_type": "code",
   "execution_count": 81,
   "id": "f581c732-2ce7-47a3-b32c-47262099fbf8",
   "metadata": {},
   "outputs": [
    {
     "data": {
      "text/html": [
       "<div>\n",
       "<style scoped>\n",
       "    .dataframe tbody tr th:only-of-type {\n",
       "        vertical-align: middle;\n",
       "    }\n",
       "\n",
       "    .dataframe tbody tr th {\n",
       "        vertical-align: top;\n",
       "    }\n",
       "\n",
       "    .dataframe thead th {\n",
       "        text-align: right;\n",
       "    }\n",
       "</style>\n",
       "<table border=\"1\" class=\"dataframe\">\n",
       "  <thead>\n",
       "    <tr style=\"text-align: right;\">\n",
       "      <th></th>\n",
       "      <th>emp_no</th>\n",
       "      <th>birth_date</th>\n",
       "      <th>first_name</th>\n",
       "      <th>last_name</th>\n",
       "      <th>gender</th>\n",
       "      <th>hire_date</th>\n",
       "      <th>title</th>\n",
       "      <th>from_date</th>\n",
       "      <th>to_date</th>\n",
       "    </tr>\n",
       "  </thead>\n",
       "  <tbody>\n",
       "    <tr>\n",
       "      <th>0</th>\n",
       "      <td>10001</td>\n",
       "      <td>1953-09-02</td>\n",
       "      <td>Georgi</td>\n",
       "      <td>Facello</td>\n",
       "      <td>M</td>\n",
       "      <td>1986-06-26</td>\n",
       "      <td>Senior Engineer</td>\n",
       "      <td>1986-06-26</td>\n",
       "      <td>9999-01-01</td>\n",
       "    </tr>\n",
       "    <tr>\n",
       "      <th>1</th>\n",
       "      <td>10002</td>\n",
       "      <td>1964-06-02</td>\n",
       "      <td>Bezalel</td>\n",
       "      <td>Simmel</td>\n",
       "      <td>F</td>\n",
       "      <td>1985-11-21</td>\n",
       "      <td>Staff</td>\n",
       "      <td>1996-08-03</td>\n",
       "      <td>9999-01-01</td>\n",
       "    </tr>\n",
       "    <tr>\n",
       "      <th>2</th>\n",
       "      <td>10003</td>\n",
       "      <td>1959-12-03</td>\n",
       "      <td>Parto</td>\n",
       "      <td>Bamford</td>\n",
       "      <td>M</td>\n",
       "      <td>1986-08-28</td>\n",
       "      <td>Senior Engineer</td>\n",
       "      <td>1995-12-03</td>\n",
       "      <td>9999-01-01</td>\n",
       "    </tr>\n",
       "    <tr>\n",
       "      <th>3</th>\n",
       "      <td>10004</td>\n",
       "      <td>1954-05-01</td>\n",
       "      <td>Chirstian</td>\n",
       "      <td>Koblick</td>\n",
       "      <td>M</td>\n",
       "      <td>1986-12-01</td>\n",
       "      <td>Engineer</td>\n",
       "      <td>1986-12-01</td>\n",
       "      <td>1995-12-01</td>\n",
       "    </tr>\n",
       "    <tr>\n",
       "      <th>4</th>\n",
       "      <td>10004</td>\n",
       "      <td>1954-05-01</td>\n",
       "      <td>Chirstian</td>\n",
       "      <td>Koblick</td>\n",
       "      <td>M</td>\n",
       "      <td>1986-12-01</td>\n",
       "      <td>Senior Engineer</td>\n",
       "      <td>1995-12-01</td>\n",
       "      <td>9999-01-01</td>\n",
       "    </tr>\n",
       "  </tbody>\n",
       "</table>\n",
       "</div>"
      ],
      "text/plain": [
       "   emp_no  birth_date first_name last_name gender   hire_date  \\\n",
       "0   10001  1953-09-02     Georgi   Facello      M  1986-06-26   \n",
       "1   10002  1964-06-02    Bezalel    Simmel      F  1985-11-21   \n",
       "2   10003  1959-12-03      Parto   Bamford      M  1986-08-28   \n",
       "3   10004  1954-05-01  Chirstian   Koblick      M  1986-12-01   \n",
       "4   10004  1954-05-01  Chirstian   Koblick      M  1986-12-01   \n",
       "\n",
       "             title   from_date     to_date  \n",
       "0  Senior Engineer  1986-06-26  9999-01-01  \n",
       "1            Staff  1996-08-03  9999-01-01  \n",
       "2  Senior Engineer  1995-12-03  9999-01-01  \n",
       "3         Engineer  1986-12-01  1995-12-01  \n",
       "4  Senior Engineer  1995-12-01  9999-01-01  "
      ]
     },
     "execution_count": 81,
     "metadata": {},
     "output_type": "execute_result"
    }
   ],
   "source": [
    "et.head()"
   ]
  },
  {
   "cell_type": "markdown",
   "id": "96c22fc8-a788-4a59-89b4-c932804a13f0",
   "metadata": {},
   "source": [
    "##### 6. For each title, find the hire date of the employee that was hired most recently with that title."
   ]
  },
  {
   "cell_type": "code",
   "execution_count": 82,
   "id": "dd486080-b8c4-46bb-94c1-424f3e194c7d",
   "metadata": {},
   "outputs": [
    {
     "data": {
      "text/plain": [
       "title\n",
       "Assistant Engineer    1985-02-02\n",
       "Engineer              1985-02-01\n",
       "Manager               1985-01-01\n",
       "Senior Engineer       1985-02-01\n",
       "Senior Staff          1985-01-14\n",
       "Staff                 1985-02-01\n",
       "Technique Leader      1985-02-02\n",
       "Name: from_date, dtype: object"
      ]
     },
     "execution_count": 82,
     "metadata": {},
     "output_type": "execute_result"
    }
   ],
   "source": [
    "et.groupby('title').from_date.agg('min')"
   ]
  },
  {
   "cell_type": "markdown",
   "id": "1a847e02-0839-455e-a087-d18b0b73a717",
   "metadata": {},
   "source": [
    "##### 7. Write the code necessary to create a cross tabulation of the number of titles by department. (Hint: this will involve a combination of SQL code to pull the necessary data and python/pandas code to perform the manipulations.)"
   ]
  },
  {
   "cell_type": "code",
   "execution_count": 86,
   "id": "55842004-dea3-47a0-9174-55c04689c23d",
   "metadata": {},
   "outputs": [],
   "source": [
    "conn = get_db_url(env.user, env.host, env.password, 'employees')"
   ]
  },
  {
   "cell_type": "code",
   "execution_count": 87,
   "id": "f66d80ef-d859-4ad8-8a28-609bcb562ab8",
   "metadata": {},
   "outputs": [],
   "source": [
    "deps = '''\n",
    "    SELECT *\n",
    "    FROM departments\n",
    "    JOIN dept_emp USING(dept_no)\n",
    "    JOIN titles USING(emp_no)\n",
    "'''"
   ]
  },
  {
   "cell_type": "code",
   "execution_count": 88,
   "id": "79b86b0a-83a3-4b63-8a56-1fd98891c606",
   "metadata": {},
   "outputs": [],
   "source": [
    "deps_df = pd.read_sql(deps, conn)"
   ]
  },
  {
   "cell_type": "code",
   "execution_count": 89,
   "id": "b7154004-6531-407e-b28b-68ea676fb874",
   "metadata": {},
   "outputs": [
    {
     "data": {
      "text/html": [
       "<div>\n",
       "<style scoped>\n",
       "    .dataframe tbody tr th:only-of-type {\n",
       "        vertical-align: middle;\n",
       "    }\n",
       "\n",
       "    .dataframe tbody tr th {\n",
       "        vertical-align: top;\n",
       "    }\n",
       "\n",
       "    .dataframe thead th {\n",
       "        text-align: right;\n",
       "    }\n",
       "</style>\n",
       "<table border=\"1\" class=\"dataframe\">\n",
       "  <thead>\n",
       "    <tr style=\"text-align: right;\">\n",
       "      <th></th>\n",
       "      <th>emp_no</th>\n",
       "      <th>dept_no</th>\n",
       "      <th>dept_name</th>\n",
       "      <th>from_date</th>\n",
       "      <th>to_date</th>\n",
       "      <th>title</th>\n",
       "      <th>from_date</th>\n",
       "      <th>to_date</th>\n",
       "    </tr>\n",
       "  </thead>\n",
       "  <tbody>\n",
       "    <tr>\n",
       "      <th>0</th>\n",
       "      <td>10011</td>\n",
       "      <td>d009</td>\n",
       "      <td>Customer Service</td>\n",
       "      <td>1990-01-22</td>\n",
       "      <td>1996-11-09</td>\n",
       "      <td>Staff</td>\n",
       "      <td>1990-01-22</td>\n",
       "      <td>1996-11-09</td>\n",
       "    </tr>\n",
       "    <tr>\n",
       "      <th>1</th>\n",
       "      <td>10038</td>\n",
       "      <td>d009</td>\n",
       "      <td>Customer Service</td>\n",
       "      <td>1989-09-20</td>\n",
       "      <td>9999-01-01</td>\n",
       "      <td>Senior Staff</td>\n",
       "      <td>1996-09-20</td>\n",
       "      <td>9999-01-01</td>\n",
       "    </tr>\n",
       "    <tr>\n",
       "      <th>2</th>\n",
       "      <td>10038</td>\n",
       "      <td>d009</td>\n",
       "      <td>Customer Service</td>\n",
       "      <td>1989-09-20</td>\n",
       "      <td>9999-01-01</td>\n",
       "      <td>Staff</td>\n",
       "      <td>1989-09-20</td>\n",
       "      <td>1996-09-20</td>\n",
       "    </tr>\n",
       "    <tr>\n",
       "      <th>3</th>\n",
       "      <td>10049</td>\n",
       "      <td>d009</td>\n",
       "      <td>Customer Service</td>\n",
       "      <td>1992-05-04</td>\n",
       "      <td>9999-01-01</td>\n",
       "      <td>Senior Staff</td>\n",
       "      <td>2000-05-04</td>\n",
       "      <td>9999-01-01</td>\n",
       "    </tr>\n",
       "    <tr>\n",
       "      <th>4</th>\n",
       "      <td>10049</td>\n",
       "      <td>d009</td>\n",
       "      <td>Customer Service</td>\n",
       "      <td>1992-05-04</td>\n",
       "      <td>9999-01-01</td>\n",
       "      <td>Staff</td>\n",
       "      <td>1992-05-04</td>\n",
       "      <td>2000-05-04</td>\n",
       "    </tr>\n",
       "  </tbody>\n",
       "</table>\n",
       "</div>"
      ],
      "text/plain": [
       "   emp_no dept_no         dept_name   from_date     to_date         title  \\\n",
       "0   10011    d009  Customer Service  1990-01-22  1996-11-09         Staff   \n",
       "1   10038    d009  Customer Service  1989-09-20  9999-01-01  Senior Staff   \n",
       "2   10038    d009  Customer Service  1989-09-20  9999-01-01         Staff   \n",
       "3   10049    d009  Customer Service  1992-05-04  9999-01-01  Senior Staff   \n",
       "4   10049    d009  Customer Service  1992-05-04  9999-01-01         Staff   \n",
       "\n",
       "    from_date     to_date  \n",
       "0  1990-01-22  1996-11-09  \n",
       "1  1996-09-20  9999-01-01  \n",
       "2  1989-09-20  1996-09-20  \n",
       "3  2000-05-04  9999-01-01  \n",
       "4  1992-05-04  2000-05-04  "
      ]
     },
     "execution_count": 89,
     "metadata": {},
     "output_type": "execute_result"
    }
   ],
   "source": [
    "deps_df.head()"
   ]
  },
  {
   "cell_type": "code",
   "execution_count": 90,
   "id": "b9c03269-746d-443f-ae29-6644e32da107",
   "metadata": {},
   "outputs": [
    {
     "data": {
      "text/html": [
       "<div>\n",
       "<style scoped>\n",
       "    .dataframe tbody tr th:only-of-type {\n",
       "        vertical-align: middle;\n",
       "    }\n",
       "\n",
       "    .dataframe tbody tr th {\n",
       "        vertical-align: top;\n",
       "    }\n",
       "\n",
       "    .dataframe thead th {\n",
       "        text-align: right;\n",
       "    }\n",
       "</style>\n",
       "<table border=\"1\" class=\"dataframe\">\n",
       "  <thead>\n",
       "    <tr style=\"text-align: right;\">\n",
       "      <th>title</th>\n",
       "      <th>Assistant Engineer</th>\n",
       "      <th>Engineer</th>\n",
       "      <th>Manager</th>\n",
       "      <th>Senior Engineer</th>\n",
       "      <th>Senior Staff</th>\n",
       "      <th>Staff</th>\n",
       "      <th>Technique Leader</th>\n",
       "    </tr>\n",
       "    <tr>\n",
       "      <th>dept_name</th>\n",
       "      <th></th>\n",
       "      <th></th>\n",
       "      <th></th>\n",
       "      <th></th>\n",
       "      <th></th>\n",
       "      <th></th>\n",
       "      <th></th>\n",
       "    </tr>\n",
       "  </thead>\n",
       "  <tbody>\n",
       "    <tr>\n",
       "      <th>Customer Service</th>\n",
       "      <td>298</td>\n",
       "      <td>2362</td>\n",
       "      <td>4</td>\n",
       "      <td>2027</td>\n",
       "      <td>13925</td>\n",
       "      <td>16150</td>\n",
       "      <td>309</td>\n",
       "    </tr>\n",
       "    <tr>\n",
       "      <th>Development</th>\n",
       "      <td>7769</td>\n",
       "      <td>58135</td>\n",
       "      <td>2</td>\n",
       "      <td>49326</td>\n",
       "      <td>1247</td>\n",
       "      <td>1424</td>\n",
       "      <td>7683</td>\n",
       "    </tr>\n",
       "    <tr>\n",
       "      <th>Finance</th>\n",
       "      <td>0</td>\n",
       "      <td>0</td>\n",
       "      <td>2</td>\n",
       "      <td>0</td>\n",
       "      <td>12139</td>\n",
       "      <td>13929</td>\n",
       "      <td>0</td>\n",
       "    </tr>\n",
       "    <tr>\n",
       "      <th>Human Resources</th>\n",
       "      <td>0</td>\n",
       "      <td>0</td>\n",
       "      <td>2</td>\n",
       "      <td>0</td>\n",
       "      <td>12274</td>\n",
       "      <td>14342</td>\n",
       "      <td>0</td>\n",
       "    </tr>\n",
       "    <tr>\n",
       "      <th>Marketing</th>\n",
       "      <td>0</td>\n",
       "      <td>0</td>\n",
       "      <td>2</td>\n",
       "      <td>0</td>\n",
       "      <td>13940</td>\n",
       "      <td>16196</td>\n",
       "      <td>0</td>\n",
       "    </tr>\n",
       "    <tr>\n",
       "      <th>Production</th>\n",
       "      <td>6445</td>\n",
       "      <td>49649</td>\n",
       "      <td>4</td>\n",
       "      <td>42205</td>\n",
       "      <td>1270</td>\n",
       "      <td>1478</td>\n",
       "      <td>6557</td>\n",
       "    </tr>\n",
       "    <tr>\n",
       "      <th>Quality Management</th>\n",
       "      <td>1831</td>\n",
       "      <td>13852</td>\n",
       "      <td>4</td>\n",
       "      <td>11864</td>\n",
       "      <td>0</td>\n",
       "      <td>0</td>\n",
       "      <td>1795</td>\n",
       "    </tr>\n",
       "    <tr>\n",
       "      <th>Research</th>\n",
       "      <td>378</td>\n",
       "      <td>2986</td>\n",
       "      <td>2</td>\n",
       "      <td>2570</td>\n",
       "      <td>11637</td>\n",
       "      <td>13495</td>\n",
       "      <td>393</td>\n",
       "    </tr>\n",
       "    <tr>\n",
       "      <th>Sales</th>\n",
       "      <td>0</td>\n",
       "      <td>0</td>\n",
       "      <td>2</td>\n",
       "      <td>0</td>\n",
       "      <td>36191</td>\n",
       "      <td>41808</td>\n",
       "      <td>0</td>\n",
       "    </tr>\n",
       "  </tbody>\n",
       "</table>\n",
       "</div>"
      ],
      "text/plain": [
       "title               Assistant Engineer  Engineer  Manager  Senior Engineer  \\\n",
       "dept_name                                                                    \n",
       "Customer Service                   298      2362        4             2027   \n",
       "Development                       7769     58135        2            49326   \n",
       "Finance                              0         0        2                0   \n",
       "Human Resources                      0         0        2                0   \n",
       "Marketing                            0         0        2                0   \n",
       "Production                        6445     49649        4            42205   \n",
       "Quality Management                1831     13852        4            11864   \n",
       "Research                           378      2986        2             2570   \n",
       "Sales                                0         0        2                0   \n",
       "\n",
       "title               Senior Staff  Staff  Technique Leader  \n",
       "dept_name                                                  \n",
       "Customer Service           13925  16150               309  \n",
       "Development                 1247   1424              7683  \n",
       "Finance                    12139  13929                 0  \n",
       "Human Resources            12274  14342                 0  \n",
       "Marketing                  13940  16196                 0  \n",
       "Production                  1270   1478              6557  \n",
       "Quality Management             0      0              1795  \n",
       "Research                   11637  13495               393  \n",
       "Sales                      36191  41808                 0  "
      ]
     },
     "execution_count": 90,
     "metadata": {},
     "output_type": "execute_result"
    }
   ],
   "source": [
    "pd.crosstab(deps_df.title, deps_df.dept_name).T"
   ]
  },
  {
   "cell_type": "code",
   "execution_count": null,
   "id": "afe23c09-6e84-4007-ac8c-b58e0b094e73",
   "metadata": {},
   "outputs": [],
   "source": []
  }
 ],
 "metadata": {
  "kernelspec": {
   "display_name": "Python 3 (ipykernel)",
   "language": "python",
   "name": "python3"
  },
  "language_info": {
   "codemirror_mode": {
    "name": "ipython",
    "version": 3
   },
   "file_extension": ".py",
   "mimetype": "text/x-python",
   "name": "python",
   "nbconvert_exporter": "python",
   "pygments_lexer": "ipython3",
   "version": "3.9.12"
  }
 },
 "nbformat": 4,
 "nbformat_minor": 5
}
