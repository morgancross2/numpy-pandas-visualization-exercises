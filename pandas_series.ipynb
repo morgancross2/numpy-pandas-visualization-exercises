{
 "cells": [
  {
   "cell_type": "code",
   "execution_count": 1,
   "id": "5a782624-578f-453b-97d1-58d0fd9360f5",
   "metadata": {},
   "outputs": [],
   "source": [
    "import pandas as pd"
   ]
  },
  {
   "cell_type": "markdown",
   "id": "1bb178a4-eb35-4e87-ac97-76e1bfe43753",
   "metadata": {},
   "source": [
    "#### PART I"
   ]
  },
  {
   "cell_type": "code",
   "execution_count": 12,
   "id": "6ed0f7d1-2d90-44e6-8905-2c3a59673f27",
   "metadata": {},
   "outputs": [
    {
     "data": {
      "text/plain": [
       "0                 kiwi\n",
       "1                mango\n",
       "2           strawberry\n",
       "3            pineapple\n",
       "4           gala apple\n",
       "5     honeycrisp apple\n",
       "6               tomato\n",
       "7           watermelon\n",
       "8             honeydew\n",
       "9                 kiwi\n",
       "10                kiwi\n",
       "11                kiwi\n",
       "12               mango\n",
       "13           blueberry\n",
       "14          blackberry\n",
       "15          gooseberry\n",
       "16              papaya\n",
       "dtype: object"
      ]
     },
     "execution_count": 12,
     "metadata": {},
     "output_type": "execute_result"
    }
   ],
   "source": [
    "fruits = pd.Series([\"kiwi\", \"mango\", \"strawberry\", \"pineapple\", \"gala apple\", \"honeycrisp apple\", \"tomato\", \"watermelon\", \"honeydew\", \"kiwi\", \"kiwi\", \"kiwi\", \"mango\", \"blueberry\", \"blackberry\", \"gooseberry\", \"papaya\"])\n",
    "fruits"
   ]
  },
  {
   "cell_type": "markdown",
   "id": "8d4840f9-2205-4303-b5f5-9629a4f6751c",
   "metadata": {
    "tags": []
   },
   "source": [
    "#### 1. Determine the number of elements in fruits."
   ]
  },
  {
   "cell_type": "code",
   "execution_count": 13,
   "id": "1d3ac341-0125-4329-a011-0f643cd520a6",
   "metadata": {},
   "outputs": [
    {
     "data": {
      "text/plain": [
       "17"
      ]
     },
     "execution_count": 13,
     "metadata": {},
     "output_type": "execute_result"
    }
   ],
   "source": [
    "fruits.count()"
   ]
  },
  {
   "cell_type": "markdown",
   "id": "6e9ea9da-2667-4b22-929f-34007c9aea1b",
   "metadata": {},
   "source": [
    "#### 2. Output only the index from fruits."
   ]
  },
  {
   "cell_type": "code",
   "execution_count": 14,
   "id": "952ccbd5-354f-4800-b65b-664a4e2b05b6",
   "metadata": {},
   "outputs": [
    {
     "data": {
      "text/plain": [
       "RangeIndex(start=0, stop=17, step=1)"
      ]
     },
     "execution_count": 14,
     "metadata": {},
     "output_type": "execute_result"
    }
   ],
   "source": [
    "fruits.index"
   ]
  },
  {
   "cell_type": "markdown",
   "id": "a19fc5a3-dadf-4536-add4-6bbd347e5dbd",
   "metadata": {},
   "source": [
    "#### 3. Output only the values from fruits."
   ]
  },
  {
   "cell_type": "code",
   "execution_count": 15,
   "id": "8f01b189-657c-4d70-8c4b-4f335cf4168f",
   "metadata": {},
   "outputs": [
    {
     "data": {
      "text/plain": [
       "kiwi                4\n",
       "mango               2\n",
       "strawberry          1\n",
       "pineapple           1\n",
       "gala apple          1\n",
       "honeycrisp apple    1\n",
       "tomato              1\n",
       "watermelon          1\n",
       "honeydew            1\n",
       "blueberry           1\n",
       "blackberry          1\n",
       "gooseberry          1\n",
       "papaya              1\n",
       "dtype: int64"
      ]
     },
     "execution_count": 15,
     "metadata": {},
     "output_type": "execute_result"
    }
   ],
   "source": [
    "fruits.value_counts()"
   ]
  },
  {
   "cell_type": "markdown",
   "id": "716134c7-58a8-48b8-9246-50a68490520c",
   "metadata": {},
   "source": [
    "#### 4. Confirm the data type of the values in fruits."
   ]
  },
  {
   "cell_type": "code",
   "execution_count": 18,
   "id": "a69c9576-f2eb-46fc-b218-bfe1634bee25",
   "metadata": {},
   "outputs": [
    {
     "data": {
      "text/plain": [
       "str"
      ]
     },
     "execution_count": 18,
     "metadata": {},
     "output_type": "execute_result"
    }
   ],
   "source": [
    "type(fruits[0])"
   ]
  },
  {
   "cell_type": "markdown",
   "id": "13a964f4-c3ed-49ef-b8c3-d41331d5dc37",
   "metadata": {},
   "source": [
    "#### 5. Output only the first five values from fruits. Output the last three values. Output two random values from fruits."
   ]
  },
  {
   "cell_type": "code",
   "execution_count": 19,
   "id": "45041d61-900f-447d-8971-39f3f882f469",
   "metadata": {},
   "outputs": [
    {
     "data": {
      "text/plain": [
       "0          kiwi\n",
       "1         mango\n",
       "2    strawberry\n",
       "3     pineapple\n",
       "4    gala apple\n",
       "dtype: object"
      ]
     },
     "execution_count": 19,
     "metadata": {},
     "output_type": "execute_result"
    }
   ],
   "source": [
    "fruits.head()"
   ]
  },
  {
   "cell_type": "code",
   "execution_count": 20,
   "id": "f6e00916-c8e5-4b38-adfd-3ec5a00b25d3",
   "metadata": {},
   "outputs": [
    {
     "data": {
      "text/plain": [
       "14    blackberry\n",
       "15    gooseberry\n",
       "16        papaya\n",
       "dtype: object"
      ]
     },
     "execution_count": 20,
     "metadata": {},
     "output_type": "execute_result"
    }
   ],
   "source": [
    "fruits.tail(3)"
   ]
  },
  {
   "cell_type": "code",
   "execution_count": 23,
   "id": "74f2a47d-6dd8-439a-9d42-5246fdcf7f08",
   "metadata": {},
   "outputs": [
    {
     "data": {
      "text/plain": [
       "2    strawberry\n",
       "3     pineapple\n",
       "dtype: object"
      ]
     },
     "execution_count": 23,
     "metadata": {},
     "output_type": "execute_result"
    }
   ],
   "source": [
    "fruits[2:4]"
   ]
  },
  {
   "cell_type": "markdown",
   "id": "48f84866-5260-461d-bf91-c7adc0a9252f",
   "metadata": {},
   "source": [
    "#### 6. Run the .describe() on fruits to see what information it returns when called on a Series with string values."
   ]
  },
  {
   "cell_type": "code",
   "execution_count": 24,
   "id": "31b36199-c6cf-4c4a-9411-8c9921a1c3b6",
   "metadata": {},
   "outputs": [
    {
     "data": {
      "text/plain": [
       "count       17\n",
       "unique      13\n",
       "top       kiwi\n",
       "freq         4\n",
       "dtype: object"
      ]
     },
     "execution_count": 24,
     "metadata": {},
     "output_type": "execute_result"
    }
   ],
   "source": [
    "fruits.describe()"
   ]
  },
  {
   "cell_type": "markdown",
   "id": "7b1b6d09-ac90-42a5-afcb-e6dc2b735b93",
   "metadata": {},
   "source": [
    "#### 7. Run the code necessary to produce only the unique string values from fruits."
   ]
  },
  {
   "cell_type": "code",
   "execution_count": 26,
   "id": "d9318be5-798d-4684-ab9e-2258cf3d6b80",
   "metadata": {},
   "outputs": [
    {
     "data": {
      "text/plain": [
       "0                 kiwi\n",
       "1                mango\n",
       "2           strawberry\n",
       "3            pineapple\n",
       "4           gala apple\n",
       "5     honeycrisp apple\n",
       "6               tomato\n",
       "7           watermelon\n",
       "8             honeydew\n",
       "9            blueberry\n",
       "10          blackberry\n",
       "11          gooseberry\n",
       "12              papaya\n",
       "dtype: object"
      ]
     },
     "execution_count": 26,
     "metadata": {},
     "output_type": "execute_result"
    }
   ],
   "source": [
    "pd.Series(fruits.unique())"
   ]
  },
  {
   "cell_type": "markdown",
   "id": "ae794c3d-ece9-408f-906c-0437a0b54d1b",
   "metadata": {},
   "source": [
    "#### 8. Determine how many times each unique string value occurs in fruits."
   ]
  },
  {
   "cell_type": "code",
   "execution_count": 29,
   "id": "5c5a2775-4925-4a68-9f76-947451b4a7e4",
   "metadata": {},
   "outputs": [
    {
     "data": {
      "text/plain": [
       "kiwi                4\n",
       "mango               2\n",
       "strawberry          1\n",
       "pineapple           1\n",
       "gala apple          1\n",
       "honeycrisp apple    1\n",
       "tomato              1\n",
       "watermelon          1\n",
       "honeydew            1\n",
       "blueberry           1\n",
       "blackberry          1\n",
       "gooseberry          1\n",
       "papaya              1\n",
       "dtype: int64"
      ]
     },
     "execution_count": 29,
     "metadata": {},
     "output_type": "execute_result"
    }
   ],
   "source": [
    "fruits.value_counts()"
   ]
  },
  {
   "cell_type": "markdown",
   "id": "7dc262c4-a855-4400-b9af-59835b6b807f",
   "metadata": {},
   "source": [
    "#### 9. Determine the string value that occurs most frequently in fruits."
   ]
  },
  {
   "cell_type": "code",
   "execution_count": 46,
   "id": "1233d60c-3ce8-4e9c-859c-a05e3d107514",
   "metadata": {},
   "outputs": [
    {
     "data": {
      "text/plain": [
       "'kiwi'"
      ]
     },
     "execution_count": 46,
     "metadata": {},
     "output_type": "execute_result"
    }
   ],
   "source": [
    "fruits.value_counts().idxmax()"
   ]
  },
  {
   "cell_type": "markdown",
   "id": "023d73e9-03b7-4265-9ba9-62ed519be4e5",
   "metadata": {},
   "source": [
    "#### 10. Determine the string value that occurs least frequently in fruits."
   ]
  },
  {
   "cell_type": "code",
   "execution_count": 45,
   "id": "49c393ff-e39c-455b-9e8b-eb6b9dd00940",
   "metadata": {},
   "outputs": [
    {
     "data": {
      "text/plain": [
       "'strawberry'"
      ]
     },
     "execution_count": 45,
     "metadata": {},
     "output_type": "execute_result"
    }
   ],
   "source": [
    "fruits.value_counts().idxmin()"
   ]
  },
  {
   "cell_type": "markdown",
   "id": "d9683fe6-d5aa-41f6-9fc0-3048742f8bd2",
   "metadata": {},
   "source": [
    "#### PART II"
   ]
  },
  {
   "cell_type": "markdown",
   "id": "a8f37bd2-327e-43a2-ae09-3e7ee27b08bb",
   "metadata": {
    "tags": []
   },
   "source": [
    "#### 1. Capitalize all the string values in fruits."
   ]
  },
  {
   "cell_type": "code",
   "execution_count": 47,
   "id": "727bc902-7484-495c-81b3-7e27219e2786",
   "metadata": {},
   "outputs": [
    {
     "data": {
      "text/plain": [
       "0                 Kiwi\n",
       "1                Mango\n",
       "2           Strawberry\n",
       "3            Pineapple\n",
       "4           Gala apple\n",
       "5     Honeycrisp apple\n",
       "6               Tomato\n",
       "7           Watermelon\n",
       "8             Honeydew\n",
       "9                 Kiwi\n",
       "10                Kiwi\n",
       "11                Kiwi\n",
       "12               Mango\n",
       "13           Blueberry\n",
       "14          Blackberry\n",
       "15          Gooseberry\n",
       "16              Papaya\n",
       "dtype: object"
      ]
     },
     "execution_count": 47,
     "metadata": {},
     "output_type": "execute_result"
    }
   ],
   "source": [
    "fruits.str.capitalize()"
   ]
  },
  {
   "cell_type": "markdown",
   "id": "f138cb63-037b-4aaa-b66b-bcda8f22f84c",
   "metadata": {},
   "source": [
    "#### 2. Count the letter \"a\" in all the string values (use string vectorization)."
   ]
  },
  {
   "cell_type": "code",
   "execution_count": 51,
   "id": "8643db92-c193-48eb-a271-c6f9f54bea66",
   "metadata": {},
   "outputs": [
    {
     "data": {
      "text/plain": [
       "14"
      ]
     },
     "execution_count": 51,
     "metadata": {},
     "output_type": "execute_result"
    }
   ],
   "source": [
    "fruits.str.count('a').sum()"
   ]
  },
  {
   "cell_type": "markdown",
   "id": "763036d4-576e-4c7a-8712-98eed35bf00e",
   "metadata": {},
   "source": [
    "#### 3. Output the number of vowels in each and every string value."
   ]
  },
  {
   "cell_type": "code",
   "execution_count": 56,
   "id": "108f14da-5d45-4294-9428-a60240d5767b",
   "metadata": {},
   "outputs": [
    {
     "data": {
      "text/plain": [
       "0     2\n",
       "1     2\n",
       "2     2\n",
       "3     4\n",
       "4     4\n",
       "5     5\n",
       "6     3\n",
       "7     4\n",
       "8     3\n",
       "9     2\n",
       "10    2\n",
       "11    2\n",
       "12    2\n",
       "13    3\n",
       "14    2\n",
       "15    4\n",
       "16    3\n",
       "dtype: int64"
      ]
     },
     "execution_count": 56,
     "metadata": {},
     "output_type": "execute_result"
    }
   ],
   "source": [
    "fruits.str.count(r'[aeiou]')"
   ]
  },
  {
   "cell_type": "markdown",
   "id": "a4f0d26e-97ee-4f6a-835c-ed32bf57c458",
   "metadata": {},
   "source": [
    "####  4. Write the code to get the longest string value from fruits."
   ]
  },
  {
   "cell_type": "code",
   "execution_count": 57,
   "id": "a42bc893-9867-4a45-9531-5b9106d12f1f",
   "metadata": {},
   "outputs": [
    {
     "data": {
      "text/plain": [
       "'watermelon'"
      ]
     },
     "execution_count": 57,
     "metadata": {},
     "output_type": "execute_result"
    }
   ],
   "source": [
    "fruits.max()"
   ]
  },
  {
   "cell_type": "markdown",
   "id": "0e9aa985-8e51-4cfc-adf7-abf2e55222d1",
   "metadata": {},
   "source": [
    "#### 5. Write the code to get the string values with 5 or more letters in the name."
   ]
  },
  {
   "cell_type": "code",
   "execution_count": 62,
   "id": "eac2f94c-f775-497e-9dbb-04a205406439",
   "metadata": {},
   "outputs": [
    {
     "data": {
      "text/plain": [
       "1                mango\n",
       "2           strawberry\n",
       "3            pineapple\n",
       "4           gala apple\n",
       "5     honeycrisp apple\n",
       "6               tomato\n",
       "7           watermelon\n",
       "8             honeydew\n",
       "12               mango\n",
       "13           blueberry\n",
       "14          blackberry\n",
       "15          gooseberry\n",
       "16              papaya\n",
       "dtype: object"
      ]
     },
     "execution_count": 62,
     "metadata": {},
     "output_type": "execute_result"
    }
   ],
   "source": [
    "fruits[fruits.str.len() >= 5]"
   ]
  },
  {
   "cell_type": "markdown",
   "id": "6f65f375-09e5-465b-af17-0492430225cd",
   "metadata": {},
   "source": [
    "#### 6. Find the fruit(s) containing the letter \"o\" two or more times."
   ]
  },
  {
   "cell_type": "code",
   "execution_count": 63,
   "id": "3ce66ab8-a156-4397-bdde-717a7c829008",
   "metadata": {},
   "outputs": [
    {
     "data": {
      "text/plain": [
       "6         tomato\n",
       "15    gooseberry\n",
       "dtype: object"
      ]
     },
     "execution_count": 63,
     "metadata": {},
     "output_type": "execute_result"
    }
   ],
   "source": [
    "fruits[fruits.str.count('o') >= 2]"
   ]
  },
  {
   "cell_type": "markdown",
   "id": "73a13f0d-cb7e-4d99-b830-38d87502c279",
   "metadata": {},
   "source": [
    "#### 7. Write the code to get only the string values containing the substring \"berry\"."
   ]
  },
  {
   "cell_type": "code",
   "execution_count": 66,
   "id": "e183ea3f-f429-409b-a5cb-1a27e3106076",
   "metadata": {},
   "outputs": [
    {
     "data": {
      "text/plain": [
       "2     strawberry\n",
       "13     blueberry\n",
       "14    blackberry\n",
       "15    gooseberry\n",
       "dtype: object"
      ]
     },
     "execution_count": 66,
     "metadata": {},
     "output_type": "execute_result"
    }
   ],
   "source": [
    "fruits[fruits.str.contains('berry')]"
   ]
  },
  {
   "cell_type": "markdown",
   "id": "4ee0cd0f-8a8d-4913-af98-d7461ea2c32c",
   "metadata": {},
   "source": [
    "#### 8. Write the code to get only the string values containing the substring \"apple\"."
   ]
  },
  {
   "cell_type": "code",
   "execution_count": 67,
   "id": "94e805ce-31fc-468e-a8c7-10e519c4eaf5",
   "metadata": {},
   "outputs": [
    {
     "data": {
      "text/plain": [
       "3           pineapple\n",
       "4          gala apple\n",
       "5    honeycrisp apple\n",
       "dtype: object"
      ]
     },
     "execution_count": 67,
     "metadata": {},
     "output_type": "execute_result"
    }
   ],
   "source": [
    "fruits[fruits.str.contains('apple')]"
   ]
  },
  {
   "cell_type": "markdown",
   "id": "67feb2bf-a0c8-4ebe-9260-4e031cf9f38e",
   "metadata": {},
   "source": [
    "#### 9. Which string value contains the most vowels?"
   ]
  },
  {
   "cell_type": "code",
   "execution_count": 73,
   "id": "667a4d39-59b4-46e7-941b-c70ec35c9e02",
   "metadata": {},
   "outputs": [
    {
     "data": {
      "text/plain": [
       "'honeycrisp apple'"
      ]
     },
     "execution_count": 73,
     "metadata": {},
     "output_type": "execute_result"
    }
   ],
   "source": [
    "#fruits.value_counts().idxmax()\n",
    "fruits[fruits.str.count(r'[aeiou]').idxmax()]"
   ]
  },
  {
   "cell_type": "markdown",
   "id": "cb822930-3645-4c3f-a063-3225c8efb0f2",
   "metadata": {},
   "source": [
    "### PART III"
   ]
  },
  {
   "cell_type": "code",
   "execution_count": 78,
   "id": "81c20aba-0d2c-474e-bf9a-702784a99898",
   "metadata": {},
   "outputs": [],
   "source": [
    "letters = pd.Series(list('hnvidduckkqxwymbimkccexbkmqygkxoyndmcxnwqarhyffsjpsrabtjzsypmzadfavyrnndndvswreauxovncxtwzpwejilzjrmmbbgbyxvjtewqthafnbkqplarokkyydtubbmnexoypulzwfhqvckdpqtpoppzqrmcvhhpwgjwupgzhiofohawytlsiyecuproguy'))"
   ]
  },
  {
   "cell_type": "markdown",
   "id": "cc0f8659-69af-48b4-88a2-3f26c5d0f6cb",
   "metadata": {},
   "source": [
    "#### 1. Which letter occurs the most frequently in the letters Series?"
   ]
  },
  {
   "cell_type": "code",
   "execution_count": 83,
   "id": "795f4ac1-a069-4eda-af5f-3ab61d16c318",
   "metadata": {},
   "outputs": [
    {
     "data": {
      "text/plain": [
       "'y'"
      ]
     },
     "execution_count": 83,
     "metadata": {},
     "output_type": "execute_result"
    }
   ],
   "source": [
    "letters.value_counts().idxmax()"
   ]
  },
  {
   "cell_type": "markdown",
   "id": "61b02605-52ea-4e2f-927c-6a97fa6cdc20",
   "metadata": {},
   "source": [
    "#### 2. Which letter occurs the Least frequently?"
   ]
  },
  {
   "cell_type": "code",
   "execution_count": 84,
   "id": "5d74fa80-a3f8-48c6-9bd5-129ff1d5f3dc",
   "metadata": {},
   "outputs": [
    {
     "data": {
      "text/plain": [
       "'l'"
      ]
     },
     "execution_count": 84,
     "metadata": {},
     "output_type": "execute_result"
    }
   ],
   "source": [
    "letters.value_counts().idxmin()"
   ]
  },
  {
   "cell_type": "markdown",
   "id": "f8dbb149-9d38-4eea-ba55-10db8df534c2",
   "metadata": {},
   "source": [
    "#### 3. How many vowels are in the Series?"
   ]
  },
  {
   "cell_type": "code",
   "execution_count": 85,
   "id": "46663208-390e-4f83-88f1-c5c9d30bd4ff",
   "metadata": {},
   "outputs": [
    {
     "data": {
      "text/plain": [
       "34"
      ]
     },
     "execution_count": 85,
     "metadata": {},
     "output_type": "execute_result"
    }
   ],
   "source": [
    "letters.str.count(r'[aeiou]').sum()"
   ]
  },
  {
   "cell_type": "markdown",
   "id": "129c5d93-4aa6-4e49-bac2-7db6b29025a4",
   "metadata": {},
   "source": [
    "#### 4. How many consonants are in the Series?"
   ]
  },
  {
   "cell_type": "code",
   "execution_count": 86,
   "id": "df56d7da-4be3-4c2b-abb7-01ee210d8781",
   "metadata": {},
   "outputs": [
    {
     "data": {
      "text/plain": [
       "166"
      ]
     },
     "execution_count": 86,
     "metadata": {},
     "output_type": "execute_result"
    }
   ],
   "source": [
    "letters.str.count(r'[bcdfghjklmnpqrstvwxyz]').sum()"
   ]
  },
  {
   "cell_type": "markdown",
   "id": "16b96e9a-7e33-44f6-8d5c-b0e3b2bceb1f",
   "metadata": {},
   "source": [
    "#### 5. Create a Series that has all of the same letters but uppercased."
   ]
  },
  {
   "cell_type": "code",
   "execution_count": 90,
   "id": "8c0584ec-2b41-4185-9554-1364e543dbf2",
   "metadata": {},
   "outputs": [],
   "source": [
    "upcase_letters = letters.str.upper()"
   ]
  },
  {
   "cell_type": "markdown",
   "id": "c8f5a6b4-465d-4140-8f28-ae9282ca3e8b",
   "metadata": {},
   "source": [
    "#### 6. Create a bar plot of the frequencies of the 6 most commonly occuring letters."
   ]
  },
  {
   "cell_type": "code",
   "execution_count": 91,
   "id": "d7ccd48f-b072-4e91-9d81-15e7c00d6158",
   "metadata": {},
   "outputs": [
    {
     "data": {
      "text/plain": [
       "<AxesSubplot:>"
      ]
     },
     "execution_count": 91,
     "metadata": {},
     "output_type": "execute_result"
    },
    {
     "data": {
      "image/png": "[encoded data removed]",
      "text/plain": [
       "<Figure size 432x288 with 1 Axes>"
      ]
     },
     "metadata": {
      "needs_background": "light"
     },
     "output_type": "display_data"
    }
   ],
   "source": [
    "letters.value_counts()[:6].plot.bar()"
   ]
  },
  {
   "cell_type": "code",
   "execution_count": 105,
   "id": "f62d3326-3224-44ed-b7e3-cbe8979bc32f",
   "metadata": {},
   "outputs": [
    {
     "data": {
      "text/plain": [
       "0       $796,459.41\n",
       "1           $278.60\n",
       "2       $482,571.67\n",
       "3     $4,503,915.98\n",
       "4      $2,121,418.3\n",
       "5      $1,260,813.3\n",
       "6        $87,231.01\n",
       "7     $1,509,175.45\n",
       "8     $4,138,548.00\n",
       "9     $2,848,913.80\n",
       "10      $594,715.39\n",
       "11    $4,789,988.17\n",
       "12     $4,513,644.5\n",
       "13    $3,191,059.97\n",
       "14    $1,758,712.24\n",
       "15    $4,338,283.54\n",
       "16    $4,738,303.38\n",
       "17    $2,791,759.67\n",
       "18      $769,681.94\n",
       "19      $452,650.23\n",
       "dtype: object"
      ]
     },
     "execution_count": 105,
     "metadata": {},
     "output_type": "execute_result"
    }
   ],
   "source": [
    "numbers = pd.Series(['$796,459.41', '$278.60', '$482,571.67', '$4,503,915.98', '$2,121,418.3', '$1,260,813.3', '$87,231.01', '$1,509,175.45', '$4,138,548.00', '$2,848,913.80', '$594,715.39', '$4,789,988.17', '$4,513,644.5', '$3,191,059.97', '$1,758,712.24', '$4,338,283.54', '$4,738,303.38', '$2,791,759.67', '$769,681.94', '$452,650.23']\n",
    ")\n",
    "numbers"
   ]
  },
  {
   "cell_type": "markdown",
   "id": "4538d3a6-aa03-4a4a-8abb-655905c19c5f",
   "metadata": {},
   "source": [
    "#### 1. What is the data type of the numbers Series?"
   ]
  },
  {
   "cell_type": "code",
   "execution_count": 108,
   "id": "b3ef8776-2fde-4968-b035-787477c0e830",
   "metadata": {},
   "outputs": [
    {
     "data": {
      "text/plain": [
       "count              20\n",
       "unique             20\n",
       "top       $796,459.41\n",
       "freq                1\n",
       "dtype: object"
      ]
     },
     "execution_count": 108,
     "metadata": {},
     "output_type": "execute_result"
    }
   ],
   "source": [
    "numbers.describe()"
   ]
  },
  {
   "cell_type": "markdown",
   "id": "2c671142-85a8-4abf-bdfa-a25ccd40935d",
   "metadata": {},
   "source": [
    "#### 2. How many elements are in the number Series?"
   ]
  },
  {
   "cell_type": "code",
   "execution_count": 109,
   "id": "b76d2773-3594-49db-9417-63a57232a4a1",
   "metadata": {},
   "outputs": [
    {
     "data": {
      "text/plain": [
       "20"
      ]
     },
     "execution_count": 109,
     "metadata": {},
     "output_type": "execute_result"
    }
   ],
   "source": [
    "len(numbers)"
   ]
  },
  {
   "cell_type": "markdown",
   "id": "fd662da4-cca1-42e4-9baf-412144c8715e",
   "metadata": {},
   "source": [
    "#### 3. Perform the necessary manipulations by accessing Series attributes and methods to convert the numbers Series to a numeric data type."
   ]
  },
  {
   "cell_type": "code",
   "execution_count": 119,
   "id": "cbbfe131-0d5f-4cb8-a831-34407e5932e2",
   "metadata": {},
   "outputs": [
    {
     "data": {
      "text/plain": [
       "0      796459.41\n",
       "1         278.60\n",
       "2      482571.67\n",
       "3     4503915.98\n",
       "4     2121418.30\n",
       "5     1260813.30\n",
       "6       87231.01\n",
       "7     1509175.45\n",
       "8     4138548.00\n",
       "9     2848913.80\n",
       "10     594715.39\n",
       "11    4789988.17\n",
       "12    4513644.50\n",
       "13    3191059.97\n",
       "14    1758712.24\n",
       "15    4338283.54\n",
       "16    4738303.38\n",
       "17    2791759.67\n",
       "18     769681.94\n",
       "19     452650.23\n",
       "dtype: float64"
      ]
     },
     "execution_count": 119,
     "metadata": {},
     "output_type": "execute_result"
    }
   ],
   "source": [
    "num2 = numbers.str.replace('$','', regex=True).replace(',','', regex=True)\n",
    "num2 = num2.astype('float')\n",
    "num2"
   ]
  },
  {
   "cell_type": "markdown",
   "id": "a8092fca-56c2-4cf4-8e2f-26954786180e",
   "metadata": {},
   "source": [
    "#### 4. Run the code to discover the maximum value from the Series."
   ]
  },
  {
   "cell_type": "code",
   "execution_count": 118,
   "id": "492e3cc7-61d6-43b9-941b-37860078b443",
   "metadata": {},
   "outputs": [
    {
     "data": {
      "text/plain": [
       "4789988.17"
      ]
     },
     "execution_count": 118,
     "metadata": {},
     "output_type": "execute_result"
    }
   ],
   "source": [
    "num2.max()"
   ]
  },
  {
   "cell_type": "markdown",
   "id": "2b447f80-890f-481e-9d4e-1e5d2814a405",
   "metadata": {},
   "source": [
    "#### 5. Run the code to discover the minimum value from the Series."
   ]
  },
  {
   "cell_type": "code",
   "execution_count": 120,
   "id": "ef2ce1d8-9238-4925-8bd3-4b96af6ff4e7",
   "metadata": {},
   "outputs": [
    {
     "data": {
      "text/plain": [
       "278.6"
      ]
     },
     "execution_count": 120,
     "metadata": {},
     "output_type": "execute_result"
    }
   ],
   "source": [
    "num2.min()"
   ]
  },
  {
   "cell_type": "markdown",
   "id": "2c7483f5-5cee-4d8a-9ae8-404bf80a7577",
   "metadata": {},
   "source": [
    "#### 6. What is the range of the values in the Series?"
   ]
  },
  {
   "cell_type": "code",
   "execution_count": 123,
   "id": "66513242-7319-4a82-837f-b2f74bc0b747",
   "metadata": {},
   "outputs": [
    {
     "data": {
      "text/plain": [
       "4789709.57"
      ]
     },
     "execution_count": 123,
     "metadata": {},
     "output_type": "execute_result"
    }
   ],
   "source": [
    "num2.max() - num2.min()"
   ]
  },
  {
   "cell_type": "markdown",
   "id": "a0466f97-17ac-4a7f-85e7-8b20709f6eef",
   "metadata": {},
   "source": [
    "#### 7. Bin the data into 4 equally sized intervals or bins and output how many values fall into each bin."
   ]
  },
  {
   "cell_type": "code",
   "execution_count": 125,
   "id": "c42d26da-3585-4fe7-bc60-900000447c47",
   "metadata": {},
   "outputs": [
    {
     "data": {
      "text/plain": [
       "(-4511.11, 1197705.993]       7\n",
       "(3592560.778, 4789988.17]     6\n",
       "(1197705.993, 2395133.385]    4\n",
       "(2395133.385, 3592560.778]    3\n",
       "dtype: int64"
      ]
     },
     "execution_count": 125,
     "metadata": {},
     "output_type": "execute_result"
    }
   ],
   "source": [
    "num2_bins = pd.cut(num2, 4)\n",
    "num2_bins.value_counts()"
   ]
  },
  {
   "cell_type": "markdown",
   "id": "e366ad3d-24ed-42cc-a0d5-90dcb9eb2406",
   "metadata": {},
   "source": [
    "#### 8. Plot the binned data in a meaningful way. Be sure to include a title and axis labels."
   ]
  },
  {
   "cell_type": "code",
   "execution_count": 132,
   "id": "20ba4221-2f66-4aa3-ad61-5ec90f26fd0f",
   "metadata": {},
   "outputs": [
    {
     "data": {
      "text/plain": [
       "Text(0.5, 1.0, 'Frequency of Prices in Numbers list')"
      ]
     },
     "execution_count": 132,
     "metadata": {},
     "output_type": "execute_result"
    },
    {
     "data": {
      "image/png": "[encoded data removed]",
      "text/plain": [
       "<Figure size 432x288 with 1 Axes>"
      ]
     },
     "metadata": {
      "needs_background": "light"
     },
     "output_type": "display_data"
    }
   ],
   "source": [
    "x = num2_bins.value_counts(sort=False).plot.bar()\n",
    "x.set_xlabel(\"Prices\")\n",
    "x.set_ylabel(\"Frequency\")\n",
    "x.set_title(\"Frequency of Prices in Numbers list\")"
   ]
  },
  {
   "cell_type": "code",
   "execution_count": 133,
   "id": "3c46b7a7-c8b7-4d33-a740-2f321e30bf2d",
   "metadata": {},
   "outputs": [
    {
     "data": {
      "text/plain": [
       "0     60\n",
       "1     86\n",
       "2     75\n",
       "3     62\n",
       "4     93\n",
       "5     71\n",
       "6     60\n",
       "7     83\n",
       "8     95\n",
       "9     78\n",
       "10    65\n",
       "11    72\n",
       "12    69\n",
       "13    81\n",
       "14    96\n",
       "15    80\n",
       "16    85\n",
       "17    92\n",
       "18    82\n",
       "19    78\n",
       "dtype: int64"
      ]
     },
     "execution_count": 133,
     "metadata": {},
     "output_type": "execute_result"
    }
   ],
   "source": [
    "grades = pd.Series([60, 86, 75, 62, 93, 71, 60, 83, 95, 78, 65, 72, 69, 81, 96, 80, 85, 92, 82, 78]\n",
    ")\n",
    "grades"
   ]
  },
  {
   "cell_type": "markdown",
   "id": "eba60c1e-4038-4d6a-ad02-6d96d6117474",
   "metadata": {},
   "source": [
    "#### 1. How many elements are in the exam_scores Series?"
   ]
  },
  {
   "cell_type": "code",
   "execution_count": 134,
   "id": "5da84d61-d8af-4d68-9f4a-5be796fe2173",
   "metadata": {},
   "outputs": [
    {
     "data": {
      "text/plain": [
       "20"
      ]
     },
     "execution_count": 134,
     "metadata": {},
     "output_type": "execute_result"
    }
   ],
   "source": [
    "len(grades)"
   ]
  },
  {
   "cell_type": "markdown",
   "id": "44dedc12-ba91-4cb9-ab4a-666b0b8ad53d",
   "metadata": {},
   "source": [
    "#### 2. Run the code to discover the minimum, the maximum, the mean, and the median scores for the exam_scores Series."
   ]
  },
  {
   "cell_type": "code",
   "execution_count": 137,
   "id": "692460fd-8668-4035-85ef-500387954843",
   "metadata": {},
   "outputs": [
    {
     "data": {
      "text/plain": [
       "{'min': 60, 'max': 96, 'mean': 78.15, 'median': 79.0}"
      ]
     },
     "execution_count": 137,
     "metadata": {},
     "output_type": "execute_result"
    }
   ],
   "source": [
    "{\n",
    "    'min' : grades.min(),\n",
    "    'max' : grades.max(),\n",
    "    'mean' : grades.mean(),\n",
    "    'median' : grades.median()\n",
    "\n",
    "}"
   ]
  },
  {
   "cell_type": "markdown",
   "id": "70cbf7f0-d4c5-4ce9-90fe-37fb557a1044",
   "metadata": {},
   "source": [
    "#### 3. Plot the Series in a meaningful way and make sure your chart has a title and axis labels."
   ]
  },
  {
   "cell_type": "code",
   "execution_count": 145,
   "id": "158b3e08-47a9-4d17-bd9a-316359f54277",
   "metadata": {},
   "outputs": [],
   "source": [
    "grade_bins = pd.cut(grades, [0,60,70,80,90,100])"
   ]
  },
  {
   "cell_type": "code",
   "execution_count": 146,
   "id": "9511192d-57b8-41ef-bf6b-8d757a69a433",
   "metadata": {},
   "outputs": [
    {
     "data": {
      "text/plain": [
       "Text(0.5, 1.0, 'Frequency of Grades')"
      ]
     },
     "execution_count": 146,
     "metadata": {},
     "output_type": "execute_result"
    },
    {
     "data": {
      "image/png": "[encoded data removed]",
      "text/plain": [
       "<Figure size 432x288 with 1 Axes>"
      ]
     },
     "metadata": {
      "needs_background": "light"
     },
     "output_type": "display_data"
    }
   ],
   "source": [
    "gds = grade_bins.value_counts(sort=False).plot.bar()\n",
    "gds.set_xlabel(\"Grades\")\n",
    "gds.set_ylabel(\"Frequency\")\n",
    "gds.set_title(\"Frequency of Grades\")"
   ]
  },
  {
   "cell_type": "markdown",
   "id": "0d0268f0-086d-4d65-96ea-fecc01555597",
   "metadata": {},
   "source": [
    "#### 4. Write the code necessary to implement a curve for your exam_grades Series and save this as curved_grades. Add the necessary points to the highest grade to make it 100, and add the same number of points to every other score in the Series as well."
   ]
  },
  {
   "cell_type": "code",
   "execution_count": 152,
   "id": "b81c229f-e687-404e-8af8-4016ebfba339",
   "metadata": {},
   "outputs": [
    {
     "data": {
      "text/plain": [
       "0      64\n",
       "1      90\n",
       "2      79\n",
       "3      66\n",
       "4      97\n",
       "5      75\n",
       "6      64\n",
       "7      87\n",
       "8      99\n",
       "9      82\n",
       "10     69\n",
       "11     76\n",
       "12     73\n",
       "13     85\n",
       "14    100\n",
       "15     84\n",
       "16     89\n",
       "17     96\n",
       "18     86\n",
       "19     82\n",
       "dtype: int64"
      ]
     },
     "execution_count": 152,
     "metadata": {},
     "output_type": "execute_result"
    }
   ],
   "source": [
    "curved_grades = grades + (100 - grades.max())\n",
    "curved_grades"
   ]
  },
  {
   "cell_type": "markdown",
   "id": "8278666f-6efc-4874-a701-3d58d44629be",
   "metadata": {},
   "source": [
    "#### 5. Use a method to convert each of the numeric values in the curved_grades Series into a categorical value of letter grades. For example, 86 should be a 'B' and 95 should be an 'A'. Save this as a Series named letter_grades."
   ]
  },
  {
   "cell_type": "code",
   "execution_count": 193,
   "id": "c1088550-1321-4b07-ba25-cc07ae746406",
   "metadata": {},
   "outputs": [
    {
     "data": {
      "text/plain": [
       "0     F\n",
       "1     B\n",
       "2     C\n",
       "3     D\n",
       "4     A\n",
       "5     C\n",
       "6     F\n",
       "7     B\n",
       "8     A\n",
       "9     C\n",
       "10    D\n",
       "11    C\n",
       "12    D\n",
       "13    B\n",
       "14    A\n",
       "15    C\n",
       "16    B\n",
       "17    A\n",
       "18    B\n",
       "19    C\n",
       "dtype: object"
      ]
     },
     "execution_count": 193,
     "metadata": {},
     "output_type": "execute_result"
    }
   ],
   "source": [
    "def grade(x):\n",
    "    if x >= 95:\n",
    "        return 'A'\n",
    "    elif x >= 85:\n",
    "        return 'B'\n",
    "    elif x >= 75:\n",
    "        return 'C'\n",
    "    elif x >= 65:\n",
    "        return 'D'\n",
    "    else:\n",
    "        return 'F'\n",
    "letter_grades = curved_grades.apply(grade)\n",
    "letter_grades"
   ]
  },
  {
   "cell_type": "markdown",
   "id": "40c2e337-5248-46d4-a4ed-b4c03c9b85fe",
   "metadata": {},
   "source": [
    "#### 6. Plot your new categorical letter_grades Series in a meaninful way and include a title and axis labels."
   ]
  },
  {
   "cell_type": "code",
   "execution_count": 194,
   "id": "88318980-9c69-4718-94ff-f1301cba7608",
   "metadata": {},
   "outputs": [
    {
     "data": {
      "text/plain": [
       "Text(0.5, 1.0, 'Frequency of Grades')"
      ]
     },
     "execution_count": 194,
     "metadata": {},
     "output_type": "execute_result"
    },
    {
     "data": {
      "image/png": "[encoded data removed]",
      "text/plain": [
       "<Figure size 432x288 with 1 Axes>"
      ]
     },
     "metadata": {
      "needs_background": "light"
     },
     "output_type": "display_data"
    }
   ],
   "source": [
    "lg = letter_grades.value_counts().sort_index().plot.bar()\n",
    "lg.set_xlabel(\"Grades\")\n",
    "lg.set_ylabel(\"Frequency\")\n",
    "lg.set_title(\"Frequency of Grades\")"
   ]
  },
  {
   "cell_type": "code",
   "execution_count": null,
   "id": "468c940e-0f33-4578-bd02-ed0fab14c45b",
   "metadata": {},
   "outputs": [],
   "source": []
  }
 ],
 "metadata": {
  "kernelspec": {
   "display_name": "Python 3 (ipykernel)",
   "language": "python",
   "name": "python3"
  },
  "language_info": {
   "codemirror_mode": {
    "name": "ipython",
    "version": 3
   },
   "file_extension": ".py",
   "mimetype": "text/x-python",
   "name": "python",
   "nbconvert_exporter": "python",
   "pygments_lexer": "ipython3",
   "version": "3.9.12"
  }
 },
 "nbformat": 4,
 "nbformat_minor": 5
}
